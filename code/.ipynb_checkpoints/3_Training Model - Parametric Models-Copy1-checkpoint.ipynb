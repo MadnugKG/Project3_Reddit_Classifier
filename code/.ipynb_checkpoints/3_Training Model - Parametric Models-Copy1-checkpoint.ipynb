{
 "cells": [
  {
   "cell_type": "markdown",
   "id": "a9bf8d1c",
   "metadata": {},
   "source": [
    "### Import Libraries"
   ]
  },
  {
   "cell_type": "code",
   "execution_count": 1,
   "id": "b980e2ea",
   "metadata": {},
   "outputs": [],
   "source": [
    "import pandas as pd\n",
    "import numpy as np\n",
    "import matplotlib.pyplot as plt\n",
    "import seaborn as sns\n",
    "import re\n",
    "\n",
    "from sklearn.model_selection import train_test_split, cross_val_score, GridSearchCV\n",
    "from sklearn.linear_model import LogisticRegressionCV, LogisticRegression\n",
    "from sklearn.naive_bayes import MultinomialNB\n",
    "\n",
    "from sklearn.feature_extraction.text import CountVectorizer, TfidfVectorizer\n",
    "from sklearn.metrics import confusion_matrix, plot_confusion_matrix\n",
    "\n",
    "from sklearn.preprocessing import StandardScaler\n",
    "from sklearn.pipeline import Pipeline"
   ]
  },
  {
   "cell_type": "markdown",
   "id": "21b0d63e",
   "metadata": {},
   "source": [
    "### Function Definition"
   ]
  },
  {
   "cell_type": "code",
   "execution_count": 2,
   "id": "79267df3",
   "metadata": {},
   "outputs": [],
   "source": [
    "def plot_term_chart(data, text_feature, ngram_range=(1,1), stop_words='english'):\n",
    "    # Create subplots with 1 by 2\n",
    "    fig, ax = plt.subplots(figsize = (12,15), nrows=1, ncols=2)\n",
    "    fig.tight_layout(pad=6)\n",
    "    \n",
    "    # Set color palette\n",
    "    color_palette = {'LinusTechTips': 'darkorange', 'TrashTaste': 'purple'}\n",
    "    \n",
    "    # Count Vectorizer\n",
    "    # Instantiate\n",
    "    cvec = CountVectorizer(stop_words=stop_words, ngram_range=ngram_range, max_features=50)\n",
    "    \n",
    "    # Fit and transform data\n",
    "    cvec.fit(data[text_feature])\n",
    "    data_vec = cvec.transform(data[text_feature])\n",
    "    data_vec_pd = pd.DataFrame(data_vec.toarray(), columns=cvec.get_feature_names())\n",
    "    \n",
    "    # Add subreddit column\n",
    "    data_vec_pd['subreddit'] = data['subreddit']\n",
    "    \n",
    "    # Groupby, melt dataframe and sort by descending order using delta to create barplot comparison\n",
    "    temp = data_vec_pd.groupby('subreddit').sum().T\n",
    "    #temp['delta'] = abs(temp['LinusTechTips'] - temp['TrashTaste'])\n",
    "    temp['delta'] = temp['LinusTechTips'] - temp['TrashTaste']\n",
    "    temp.sort_values(by='delta',ascending=False, inplace=True)\n",
    "    temp_melt = temp[['LinusTechTips', 'TrashTaste']].melt(ignore_index=False)\n",
    "    sns.barplot(y=temp_melt.index, x=temp_melt['value'], hue=temp_melt['subreddit'], palette=color_palette, ax=ax[0])\n",
    "    ax[0].set_title('Count Vectorizer Top 50 Terms', fontweight = 'bold', fontsize=15)\n",
    "    \n",
    "    # TF-IDF Vectorizer\n",
    "    # Instantiate\n",
    "    tvec = TfidfVectorizer(stop_words=stop_words, ngram_range=ngram_range, max_features=50)\n",
    "    \n",
    "    # Fit and transform data\n",
    "    tvec.fit(data[text_feature])\n",
    "    data_vec = tvec.transform(data[text_feature])\n",
    "    data_vec_pd = pd.DataFrame(data_vec.toarray(), columns=tvec.get_feature_names())\n",
    "    \n",
    "    # Add subreddit column\n",
    "    data_vec_pd['subreddit'] = data['subreddit']\n",
    "    \n",
    "    # Groupby, melt dataframe and sort by descending order using delta to create barplot comparison\n",
    "    temp = data_vec_pd.groupby('subreddit').sum().T\n",
    "    #temp['delta'] = abs(temp['LinusTechTips'] - temp['TrashTaste'])\n",
    "    temp['delta'] = temp['LinusTechTips'] - temp['TrashTaste']\n",
    "    temp.sort_values(by='delta',ascending=False, inplace=True)\n",
    "    temp_melt = temp[['LinusTechTips', 'TrashTaste']].melt(ignore_index=False)\n",
    "    sns.barplot(y=temp_melt.index, x=temp_melt['value'], hue=temp_melt['subreddit'], palette=color_palette, ax=ax[1])\n",
    "    ax[1].set_title('TF-IDF Vectorizer Top 50 Terms', fontweight = 'bold', fontsize=15)\n",
    "    \n",
    "    \n",
    "    \n",
    "def clean_data(data):\n",
    "    # Drop columns with hints of subreddit\n",
    "    data.drop(columns=['full_link', 'permalink', 'subreddit_id'], inplace = True)\n",
    "    \n",
    "    # Drop author_flaair_richtext\n",
    "    data.dropna(subset=['author_flair_richtext'], inplace=True)\n",
    "    \n",
    "    # Drop features with less than 2 unique values\n",
    "    temp = data.nunique().sort_values(ascending=True)\n",
    "    temp[temp<=1]\n",
    "    data.drop(columns=temp[temp<=1].index, inplace=True)\n",
    "    \n",
    "    # Check datatype of each features\n",
    "    features_obj=[]\n",
    "    features_bool=[]\n",
    "    features_num=[]\n",
    "    for col in data.columns:\n",
    "        if data[col].dtypes == 'O':\n",
    "            features_obj.append(col)\n",
    "        elif data[col].dtypes == 'bool':\n",
    "            features_bool.append(col)\n",
    "        else:\n",
    "            features_num.append(col)\n",
    "    \n",
    "    # Fill in all missing values for objects to be empty string\n",
    "    for feature in features_obj:\n",
    "        data[feature].fillna('', inplace=True)\n",
    "    \n",
    "    # Dropping rows with [deleted] or [removed] in selftext\n",
    "    data.drop(index=data[data['selftext'].str.contains('\\[removed\\]|\\[deleted\\]')].index, inplace=True)\n",
    "\n",
    "    # Created date time\n",
    "    data['created_datetime'] = pd.to_datetime(data['created_utc'], unit='s')\n",
    "    data['created_year'] = pd.DatetimeIndex(data['created_datetime']).year\n",
    "    data['created_month'] = pd.DatetimeIndex(data['created_datetime']).month\n",
    "    data['created_day'] = pd.DatetimeIndex(data['created_datetime']).day\n",
    "    data['created_hour'] = pd.DatetimeIndex(data['created_datetime']).hour\n",
    "    data['created_minute'] = pd.DatetimeIndex(data['created_datetime']).minute\n",
    "    data['created_second'] = pd.DatetimeIndex(data['created_datetime']).second\n",
    "\n",
    "    # Calculate time between posts\n",
    "    data.sort_values(by=['subreddit', 'created_datetime'], ascending=False, inplace=True, ignore_index=True)\n",
    "    for i in range(data.shape[0]-1):\n",
    "        if data.loc[i, 'subreddit'] == data.loc[i+1, 'subreddit']:\n",
    "            data.loc[i, 'time_btw_post'] = data.loc[i, 'created_datetime'] - data.loc[i+1, 'created_datetime']\n",
    "        else:\n",
    "            data.loc[i, 'time_btw_post'] = data[data['subreddit']==data.loc[i, 'subreddit']]['time_btw_post'].mean()\n",
    "        data.loc[data.shape[0]-1, 'time_btw_post'] = data[data['subreddit']==data.loc[data.shape[0]-1, 'subreddit']]['time_btw_post'].mean()\n",
    "    data['time_btw_post_(mins)'] = data['time_btw_post'] / np.timedelta64(1, 'm')\n",
    "    \n",
    "    return data  \n",
    "    \n",
    "    \n",
    "def model_metrics(model, X_train, y_train, X_test, y_test):\n",
    "    result = {}\n",
    "    \n",
    "    # Train Accuracy\n",
    "    result['train_accuracy'] = [model.score(X_train, y_train)]\n",
    "    print(f\"Train Accuracy: {result['train_accuracy'][0]}\")\n",
    "    \n",
    "    # Best TrainCV Accuracy\n",
    "    result['trainCV_accuracy'] = [model.best_score_]\n",
    "    print(f\"TrainCV Accuracy: {result['trainCV_accuracy'][0]}\")\n",
    "\n",
    "    # Test Accuracy\n",
    "    result['test_accuracy'] = [model.score(X_test, y_test)]\n",
    "    print(f\"Test Accuracy: {result['test_accuracy'][0]}\")\n",
    "    \n",
    "    # Test data Predictions\n",
    "    y_test_pred = model.predict(X_test)\n",
    "    \n",
    "    # Confusion Matrix\n",
    "    tn, fp, fn, tp = confusion_matrix(y_test, y_test_pred).ravel()\n",
    "    result['tn'] = [tn]\n",
    "    result['fp'] = [fp]\n",
    "    result['fn'] = [fn]\n",
    "    result['tp'] = [tp]\n",
    "    \n",
    "    # Sensitivity\n",
    "    sensitivity = tp/(tp+fn)\n",
    "    result['sensitivity'] = [sensitivity]\n",
    "    print(f\"Sensitivity: {result['sensitivity'][0]}\")\n",
    "    \n",
    "    # Specificity\n",
    "    specificity = tn/(tn+fp)\n",
    "    result['specificity'] = [specificity]\n",
    "    print(f\"Specificity: {result['specificity'][0]}\")\n",
    "    \n",
    "    # Plot Confusion Matrix\n",
    "    plot_confusion_matrix(model, X_test, y_test, display_labels=['LinusTechTips', 'TrashTaste'])\n",
    "\n",
    "    # Best Parameters\n",
    "    result['best_params'] = [model.best_params_]\n",
    "    print(f\"Best Parameters: {result['best_params'][0]}\")\n",
    "    \n",
    "    # Best Estimator\n",
    "    result['best_estimator'] = [model.best_estimator_]\n",
    "    print(f\"Best Estimator: {result['best_estimator'][0]}\")\n",
    "        \n",
    "    return pd.DataFrame(result)"
   ]
  },
  {
   "cell_type": "markdown",
   "id": "47078e66",
   "metadata": {},
   "source": [
    "### Load Data"
   ]
  },
  {
   "cell_type": "code",
   "execution_count": 3,
   "id": "3097999c",
   "metadata": {},
   "outputs": [],
   "source": [
    "linustech = pd.read_csv('../data/linustechtips.csv')\n",
    "trashtaste = pd.read_csv('../data/trashtaste.csv')\n",
    "data = pd.concat([linustech, trashtaste], ignore_index=True)\n",
    "data.drop('Unnamed: 0', axis = 'columns', inplace=True)\n",
    "data = clean_data(data)\n",
    "data['subreddit'] = data['subreddit'].map({'LinusTechTips': 0, 'TrashTaste': 1})"
   ]
  },
  {
   "cell_type": "code",
   "execution_count": 4,
   "id": "94dac87c",
   "metadata": {},
   "outputs": [],
   "source": [
    "# subreddit is the target, subreddit_id is the target\n",
    "# Initial usable features are author, authur_fullname, 'full_link', 'domain', 'id', link_flair_richtext, link_flair_text, \n",
    "#'num_comments', 'permalink', 'selftext', 'title', 'url', whitelist_status', 'wls', \n",
    "# Dunno: 'created_utc'"
   ]
  },
  {
   "cell_type": "markdown",
   "id": "8dfd7ccf",
   "metadata": {},
   "source": [
    "### Prep Data"
   ]
  },
  {
   "cell_type": "code",
   "execution_count": 5,
   "id": "34dec7d9",
   "metadata": {},
   "outputs": [],
   "source": [
    "X = data['title']\n",
    "y = data['subreddit']\n",
    "X_train, X_test, y_train, y_test = train_test_split(X, y, train_size = 0.75, stratify=y, random_state = 42)"
   ]
  },
  {
   "cell_type": "code",
   "execution_count": 6,
   "id": "5f1abffd",
   "metadata": {
    "scrolled": true
   },
   "outputs": [
    {
     "data": {
      "text/plain": [
       "TfidfVectorizer(max_features=4000, ngram_range=(1, 3), stop_words='english')"
      ]
     },
     "execution_count": 6,
     "metadata": {},
     "output_type": "execute_result"
    }
   ],
   "source": [
    "cvec = TfidfVectorizer(stop_words='english', ngram_range=(1, 3), max_features=4000)\n",
    "cvec.fit(X_train)"
   ]
  },
  {
   "cell_type": "code",
   "execution_count": 7,
   "id": "b31e05eb",
   "metadata": {},
   "outputs": [],
   "source": [
    "X_train_vec = cvec.transform(X_train)\n",
    "X_test_vec = cvec.transform(X_test)"
   ]
  },
  {
   "cell_type": "code",
   "execution_count": 8,
   "id": "de779129",
   "metadata": {},
   "outputs": [
    {
     "data": {
      "text/plain": [
       "(3117, 4000)"
      ]
     },
     "execution_count": 8,
     "metadata": {},
     "output_type": "execute_result"
    }
   ],
   "source": [
    "X_train_vec.shape"
   ]
  },
  {
   "cell_type": "code",
   "execution_count": 9,
   "id": "6386015b",
   "metadata": {},
   "outputs": [],
   "source": [
    "X_train_vec_df = pd.DataFrame(X_train_vec.toarray(), columns = cvec.get_feature_names())\n"
   ]
  },
  {
   "cell_type": "code",
   "execution_count": 10,
   "id": "75c8b923",
   "metadata": {},
   "outputs": [
    {
     "data": {
      "text/html": [
       "<div>\n",
       "<style scoped>\n",
       "    .dataframe tbody tr th:only-of-type {\n",
       "        vertical-align: middle;\n",
       "    }\n",
       "\n",
       "    .dataframe tbody tr th {\n",
       "        vertical-align: top;\n",
       "    }\n",
       "\n",
       "    .dataframe thead th {\n",
       "        text-align: right;\n",
       "    }\n",
       "</style>\n",
       "<table border=\"1\" class=\"dataframe\">\n",
       "  <thead>\n",
       "    <tr style=\"text-align: right;\">\n",
       "      <th></th>\n",
       "      <th>00</th>\n",
       "      <th>00 following</th>\n",
       "      <th>00 following video</th>\n",
       "      <th>000</th>\n",
       "      <th>000 000</th>\n",
       "      <th>00am</th>\n",
       "      <th>01am</th>\n",
       "      <th>01pm</th>\n",
       "      <th>03</th>\n",
       "      <th>03 41pm</th>\n",
       "      <th>...</th>\n",
       "      <th>youtube channel</th>\n",
       "      <th>youtube dislike</th>\n",
       "      <th>youtuber</th>\n",
       "      <th>youtubers</th>\n",
       "      <th>yt</th>\n",
       "      <th>yu</th>\n",
       "      <th>zero</th>\n",
       "      <th>zip</th>\n",
       "      <th>zip tie</th>\n",
       "      <th>zip tie hold</th>\n",
       "    </tr>\n",
       "  </thead>\n",
       "  <tbody>\n",
       "    <tr>\n",
       "      <th>0</th>\n",
       "      <td>0.0</td>\n",
       "      <td>0.0</td>\n",
       "      <td>0.0</td>\n",
       "      <td>0.0</td>\n",
       "      <td>0.0</td>\n",
       "      <td>0.0</td>\n",
       "      <td>0.0</td>\n",
       "      <td>0.0</td>\n",
       "      <td>0.000000</td>\n",
       "      <td>0.0</td>\n",
       "      <td>...</td>\n",
       "      <td>0.0</td>\n",
       "      <td>0.0</td>\n",
       "      <td>0.0</td>\n",
       "      <td>0.0</td>\n",
       "      <td>0.0</td>\n",
       "      <td>0.0</td>\n",
       "      <td>0.0</td>\n",
       "      <td>0.0</td>\n",
       "      <td>0.0</td>\n",
       "      <td>0.0</td>\n",
       "    </tr>\n",
       "    <tr>\n",
       "      <th>1</th>\n",
       "      <td>0.0</td>\n",
       "      <td>0.0</td>\n",
       "      <td>0.0</td>\n",
       "      <td>0.0</td>\n",
       "      <td>0.0</td>\n",
       "      <td>0.0</td>\n",
       "      <td>0.0</td>\n",
       "      <td>0.0</td>\n",
       "      <td>0.272617</td>\n",
       "      <td>0.0</td>\n",
       "      <td>...</td>\n",
       "      <td>0.0</td>\n",
       "      <td>0.0</td>\n",
       "      <td>0.0</td>\n",
       "      <td>0.0</td>\n",
       "      <td>0.0</td>\n",
       "      <td>0.0</td>\n",
       "      <td>0.0</td>\n",
       "      <td>0.0</td>\n",
       "      <td>0.0</td>\n",
       "      <td>0.0</td>\n",
       "    </tr>\n",
       "    <tr>\n",
       "      <th>2</th>\n",
       "      <td>0.0</td>\n",
       "      <td>0.0</td>\n",
       "      <td>0.0</td>\n",
       "      <td>0.0</td>\n",
       "      <td>0.0</td>\n",
       "      <td>0.0</td>\n",
       "      <td>0.0</td>\n",
       "      <td>0.0</td>\n",
       "      <td>0.000000</td>\n",
       "      <td>0.0</td>\n",
       "      <td>...</td>\n",
       "      <td>0.0</td>\n",
       "      <td>0.0</td>\n",
       "      <td>0.0</td>\n",
       "      <td>0.0</td>\n",
       "      <td>0.0</td>\n",
       "      <td>0.0</td>\n",
       "      <td>0.0</td>\n",
       "      <td>0.0</td>\n",
       "      <td>0.0</td>\n",
       "      <td>0.0</td>\n",
       "    </tr>\n",
       "    <tr>\n",
       "      <th>3</th>\n",
       "      <td>0.0</td>\n",
       "      <td>0.0</td>\n",
       "      <td>0.0</td>\n",
       "      <td>0.0</td>\n",
       "      <td>0.0</td>\n",
       "      <td>0.0</td>\n",
       "      <td>0.0</td>\n",
       "      <td>0.0</td>\n",
       "      <td>0.000000</td>\n",
       "      <td>0.0</td>\n",
       "      <td>...</td>\n",
       "      <td>0.0</td>\n",
       "      <td>0.0</td>\n",
       "      <td>0.0</td>\n",
       "      <td>0.0</td>\n",
       "      <td>0.0</td>\n",
       "      <td>0.0</td>\n",
       "      <td>0.0</td>\n",
       "      <td>0.0</td>\n",
       "      <td>0.0</td>\n",
       "      <td>0.0</td>\n",
       "    </tr>\n",
       "    <tr>\n",
       "      <th>4</th>\n",
       "      <td>0.0</td>\n",
       "      <td>0.0</td>\n",
       "      <td>0.0</td>\n",
       "      <td>0.0</td>\n",
       "      <td>0.0</td>\n",
       "      <td>0.0</td>\n",
       "      <td>0.0</td>\n",
       "      <td>0.0</td>\n",
       "      <td>0.000000</td>\n",
       "      <td>0.0</td>\n",
       "      <td>...</td>\n",
       "      <td>0.0</td>\n",
       "      <td>0.0</td>\n",
       "      <td>0.0</td>\n",
       "      <td>0.0</td>\n",
       "      <td>0.0</td>\n",
       "      <td>0.0</td>\n",
       "      <td>0.0</td>\n",
       "      <td>0.0</td>\n",
       "      <td>0.0</td>\n",
       "      <td>0.0</td>\n",
       "    </tr>\n",
       "    <tr>\n",
       "      <th>...</th>\n",
       "      <td>...</td>\n",
       "      <td>...</td>\n",
       "      <td>...</td>\n",
       "      <td>...</td>\n",
       "      <td>...</td>\n",
       "      <td>...</td>\n",
       "      <td>...</td>\n",
       "      <td>...</td>\n",
       "      <td>...</td>\n",
       "      <td>...</td>\n",
       "      <td>...</td>\n",
       "      <td>...</td>\n",
       "      <td>...</td>\n",
       "      <td>...</td>\n",
       "      <td>...</td>\n",
       "      <td>...</td>\n",
       "      <td>...</td>\n",
       "      <td>...</td>\n",
       "      <td>...</td>\n",
       "      <td>...</td>\n",
       "      <td>...</td>\n",
       "    </tr>\n",
       "    <tr>\n",
       "      <th>3112</th>\n",
       "      <td>0.0</td>\n",
       "      <td>0.0</td>\n",
       "      <td>0.0</td>\n",
       "      <td>0.0</td>\n",
       "      <td>0.0</td>\n",
       "      <td>0.0</td>\n",
       "      <td>0.0</td>\n",
       "      <td>0.0</td>\n",
       "      <td>0.000000</td>\n",
       "      <td>0.0</td>\n",
       "      <td>...</td>\n",
       "      <td>0.0</td>\n",
       "      <td>0.0</td>\n",
       "      <td>0.0</td>\n",
       "      <td>0.0</td>\n",
       "      <td>0.0</td>\n",
       "      <td>0.0</td>\n",
       "      <td>0.0</td>\n",
       "      <td>0.0</td>\n",
       "      <td>0.0</td>\n",
       "      <td>0.0</td>\n",
       "    </tr>\n",
       "    <tr>\n",
       "      <th>3113</th>\n",
       "      <td>0.0</td>\n",
       "      <td>0.0</td>\n",
       "      <td>0.0</td>\n",
       "      <td>0.0</td>\n",
       "      <td>0.0</td>\n",
       "      <td>0.0</td>\n",
       "      <td>0.0</td>\n",
       "      <td>0.0</td>\n",
       "      <td>0.000000</td>\n",
       "      <td>0.0</td>\n",
       "      <td>...</td>\n",
       "      <td>0.0</td>\n",
       "      <td>0.0</td>\n",
       "      <td>0.0</td>\n",
       "      <td>0.0</td>\n",
       "      <td>0.0</td>\n",
       "      <td>0.0</td>\n",
       "      <td>0.0</td>\n",
       "      <td>0.0</td>\n",
       "      <td>0.0</td>\n",
       "      <td>0.0</td>\n",
       "    </tr>\n",
       "    <tr>\n",
       "      <th>3114</th>\n",
       "      <td>0.0</td>\n",
       "      <td>0.0</td>\n",
       "      <td>0.0</td>\n",
       "      <td>0.0</td>\n",
       "      <td>0.0</td>\n",
       "      <td>0.0</td>\n",
       "      <td>0.0</td>\n",
       "      <td>0.0</td>\n",
       "      <td>0.000000</td>\n",
       "      <td>0.0</td>\n",
       "      <td>...</td>\n",
       "      <td>0.0</td>\n",
       "      <td>0.0</td>\n",
       "      <td>0.0</td>\n",
       "      <td>0.0</td>\n",
       "      <td>0.0</td>\n",
       "      <td>0.0</td>\n",
       "      <td>0.0</td>\n",
       "      <td>0.0</td>\n",
       "      <td>0.0</td>\n",
       "      <td>0.0</td>\n",
       "    </tr>\n",
       "    <tr>\n",
       "      <th>3115</th>\n",
       "      <td>0.0</td>\n",
       "      <td>0.0</td>\n",
       "      <td>0.0</td>\n",
       "      <td>0.0</td>\n",
       "      <td>0.0</td>\n",
       "      <td>0.0</td>\n",
       "      <td>0.0</td>\n",
       "      <td>0.0</td>\n",
       "      <td>0.000000</td>\n",
       "      <td>0.0</td>\n",
       "      <td>...</td>\n",
       "      <td>0.0</td>\n",
       "      <td>0.0</td>\n",
       "      <td>0.0</td>\n",
       "      <td>0.0</td>\n",
       "      <td>0.0</td>\n",
       "      <td>0.0</td>\n",
       "      <td>0.0</td>\n",
       "      <td>0.0</td>\n",
       "      <td>0.0</td>\n",
       "      <td>0.0</td>\n",
       "    </tr>\n",
       "    <tr>\n",
       "      <th>3116</th>\n",
       "      <td>0.0</td>\n",
       "      <td>0.0</td>\n",
       "      <td>0.0</td>\n",
       "      <td>0.0</td>\n",
       "      <td>0.0</td>\n",
       "      <td>0.0</td>\n",
       "      <td>0.0</td>\n",
       "      <td>0.0</td>\n",
       "      <td>0.000000</td>\n",
       "      <td>0.0</td>\n",
       "      <td>...</td>\n",
       "      <td>0.0</td>\n",
       "      <td>0.0</td>\n",
       "      <td>0.0</td>\n",
       "      <td>0.0</td>\n",
       "      <td>0.0</td>\n",
       "      <td>0.0</td>\n",
       "      <td>0.0</td>\n",
       "      <td>0.0</td>\n",
       "      <td>0.0</td>\n",
       "      <td>0.0</td>\n",
       "    </tr>\n",
       "  </tbody>\n",
       "</table>\n",
       "<p>3117 rows × 4000 columns</p>\n",
       "</div>"
      ],
      "text/plain": [
       "       00  00 following  00 following video  000  000 000  00am  01am  01pm  \\\n",
       "0     0.0           0.0                 0.0  0.0      0.0   0.0   0.0   0.0   \n",
       "1     0.0           0.0                 0.0  0.0      0.0   0.0   0.0   0.0   \n",
       "2     0.0           0.0                 0.0  0.0      0.0   0.0   0.0   0.0   \n",
       "3     0.0           0.0                 0.0  0.0      0.0   0.0   0.0   0.0   \n",
       "4     0.0           0.0                 0.0  0.0      0.0   0.0   0.0   0.0   \n",
       "...   ...           ...                 ...  ...      ...   ...   ...   ...   \n",
       "3112  0.0           0.0                 0.0  0.0      0.0   0.0   0.0   0.0   \n",
       "3113  0.0           0.0                 0.0  0.0      0.0   0.0   0.0   0.0   \n",
       "3114  0.0           0.0                 0.0  0.0      0.0   0.0   0.0   0.0   \n",
       "3115  0.0           0.0                 0.0  0.0      0.0   0.0   0.0   0.0   \n",
       "3116  0.0           0.0                 0.0  0.0      0.0   0.0   0.0   0.0   \n",
       "\n",
       "            03  03 41pm  ...  youtube channel  youtube dislike  youtuber  \\\n",
       "0     0.000000      0.0  ...              0.0              0.0       0.0   \n",
       "1     0.272617      0.0  ...              0.0              0.0       0.0   \n",
       "2     0.000000      0.0  ...              0.0              0.0       0.0   \n",
       "3     0.000000      0.0  ...              0.0              0.0       0.0   \n",
       "4     0.000000      0.0  ...              0.0              0.0       0.0   \n",
       "...        ...      ...  ...              ...              ...       ...   \n",
       "3112  0.000000      0.0  ...              0.0              0.0       0.0   \n",
       "3113  0.000000      0.0  ...              0.0              0.0       0.0   \n",
       "3114  0.000000      0.0  ...              0.0              0.0       0.0   \n",
       "3115  0.000000      0.0  ...              0.0              0.0       0.0   \n",
       "3116  0.000000      0.0  ...              0.0              0.0       0.0   \n",
       "\n",
       "      youtubers   yt   yu  zero  zip  zip tie  zip tie hold  \n",
       "0           0.0  0.0  0.0   0.0  0.0      0.0           0.0  \n",
       "1           0.0  0.0  0.0   0.0  0.0      0.0           0.0  \n",
       "2           0.0  0.0  0.0   0.0  0.0      0.0           0.0  \n",
       "3           0.0  0.0  0.0   0.0  0.0      0.0           0.0  \n",
       "4           0.0  0.0  0.0   0.0  0.0      0.0           0.0  \n",
       "...         ...  ...  ...   ...  ...      ...           ...  \n",
       "3112        0.0  0.0  0.0   0.0  0.0      0.0           0.0  \n",
       "3113        0.0  0.0  0.0   0.0  0.0      0.0           0.0  \n",
       "3114        0.0  0.0  0.0   0.0  0.0      0.0           0.0  \n",
       "3115        0.0  0.0  0.0   0.0  0.0      0.0           0.0  \n",
       "3116        0.0  0.0  0.0   0.0  0.0      0.0           0.0  \n",
       "\n",
       "[3117 rows x 4000 columns]"
      ]
     },
     "execution_count": 10,
     "metadata": {},
     "output_type": "execute_result"
    }
   ],
   "source": [
    "X_train_vec_df"
   ]
  },
  {
   "cell_type": "code",
   "execution_count": 11,
   "id": "0d1df585",
   "metadata": {},
   "outputs": [
    {
     "data": {
      "text/plain": [
       "linus          76.829680\n",
       "connor         70.159632\n",
       "help           45.068554\n",
       "garnt          40.336426\n",
       "like           34.321269\n",
       "pc             32.142565\n",
       "just           32.018360\n",
       "taste          29.259035\n",
       "ltt            28.395959\n",
       "trash          28.059394\n",
       "joey           27.717123\n",
       "video          27.173772\n",
       "new            26.582486\n",
       "trash taste    26.361786\n",
       "monke          24.502560\n",
       "chris          23.041940\n",
       "need           23.039163\n",
       "anime          22.109486\n",
       "man            21.294056\n",
       "know           20.093162\n",
       "tips           19.726068\n",
       "time           19.081225\n",
       "gpu            18.332688\n",
       "got            17.965397\n",
       "boys           17.529198\n",
       "good           16.875625\n",
       "think          16.689557\n",
       "episode        16.453427\n",
       "did            16.354040\n",
       "grant          15.854162\n",
       "tech           15.761673\n",
       "meme           14.282453\n",
       "youtube        14.060364\n",
       "right          14.007545\n",
       "build          13.925580\n",
       "stream         13.433436\n",
       "laptop         13.421580\n",
       "cpu            12.998610\n",
       "looking        12.926685\n",
       "does           12.446186\n",
       "make           12.364831\n",
       "don            12.170802\n",
       "gaming         12.152885\n",
       "special        11.980146\n",
       "monitor        11.932397\n",
       "best           11.924086\n",
       "guys           11.847959\n",
       "mouse          11.695026\n",
       "want           11.564643\n",
       "wan            11.540942\n",
       "dtype: float64"
      ]
     },
     "execution_count": 11,
     "metadata": {},
     "output_type": "execute_result"
    }
   ],
   "source": [
    "X_train_vec_df.sum().sort_values(ascending = False)[0:50]"
   ]
  },
  {
   "cell_type": "markdown",
   "id": "cb1a51e4",
   "metadata": {},
   "source": [
    "### Deciding Which Parametric Model and Vectorizer to Use\n",
    "\n",
    "In order to determine which vectorizer and model combination would generate the best accuracy, 4 different models are ran and compared with each other accuracy, specificity and sensitivity."
   ]
  },
  {
   "cell_type": "markdown",
   "id": "acf6b087",
   "metadata": {},
   "source": [
    "#### TfidfVectorizer + Logisitc Regression"
   ]
  },
  {
   "cell_type": "code",
   "execution_count": 143,
   "id": "af19b3b9",
   "metadata": {},
   "outputs": [
    {
     "name": "stdout",
     "output_type": "stream",
     "text": [
      "Fitting 5 folds for each of 135 candidates, totalling 675 fits\n"
     ]
    },
    {
     "data": {
      "text/plain": [
       "GridSearchCV(cv=5,\n",
       "             estimator=Pipeline(steps=[('tvec', TfidfVectorizer()),\n",
       "                                       ('logreg', LogisticRegression())]),\n",
       "             param_grid={'logreg__C': array([1.  , 0.1 , 0.01]),\n",
       "                         'tvec__max_features': [2000, 4000, 6000],\n",
       "                         'tvec__min_df': [1, 2, 5, 10, 20],\n",
       "                         'tvec__ngram_range': [(1, 1), (1, 2), (1, 3)],\n",
       "                         'tvec__stop_words': ['english']},\n",
       "             verbose=1)"
      ]
     },
     "execution_count": 143,
     "metadata": {},
     "output_type": "execute_result"
    }
   ],
   "source": [
    "# Instantiate Pipeline with TfidfVectorizer and Logisitic Regression\n",
    "pipe = Pipeline([\n",
    "    ('tvec', TfidfVectorizer()),\n",
    "    ('logreg', LogisticRegression())    \n",
    "])\n",
    "\n",
    "# Grid Search Parameters\n",
    "pipe_tvec_params = {\n",
    "    'tvec__stop_words': ['english'],\n",
    "    'tvec__ngram_range': [(1,1), (1,2), (1,3)],\n",
    "    'tvec__max_features': [2000, 4000, 6000],\n",
    "    'tvec__min_df': [1, 2, 5, 10, 20],\n",
    "    'logreg__C': np.logspace(0, -2, 3)\n",
    "}\n",
    "\n",
    "# Instantiate GridSearch and fit model using data\n",
    "gs_tvec = GridSearchCV(pipe, param_grid=pipe_tvec_params, cv=5, verbose=1)\n",
    "gs_tvec.fit(X_train, y_train)"
   ]
  },
  {
   "cell_type": "code",
   "execution_count": 144,
   "id": "099dc597",
   "metadata": {},
   "outputs": [
    {
     "data": {
      "text/html": [
       "<div>\n",
       "<style scoped>\n",
       "    .dataframe tbody tr th:only-of-type {\n",
       "        vertical-align: middle;\n",
       "    }\n",
       "\n",
       "    .dataframe tbody tr th {\n",
       "        vertical-align: top;\n",
       "    }\n",
       "\n",
       "    .dataframe thead th {\n",
       "        text-align: right;\n",
       "    }\n",
       "</style>\n",
       "<table border=\"1\" class=\"dataframe\">\n",
       "  <thead>\n",
       "    <tr style=\"text-align: right;\">\n",
       "      <th></th>\n",
       "      <th>mean_fit_time</th>\n",
       "      <th>std_fit_time</th>\n",
       "      <th>mean_score_time</th>\n",
       "      <th>std_score_time</th>\n",
       "      <th>param_logreg__C</th>\n",
       "      <th>param_tvec__max_features</th>\n",
       "      <th>param_tvec__min_df</th>\n",
       "      <th>param_tvec__ngram_range</th>\n",
       "      <th>param_tvec__stop_words</th>\n",
       "      <th>params</th>\n",
       "      <th>split0_test_score</th>\n",
       "      <th>split1_test_score</th>\n",
       "      <th>split2_test_score</th>\n",
       "      <th>split3_test_score</th>\n",
       "      <th>split4_test_score</th>\n",
       "      <th>mean_test_score</th>\n",
       "      <th>std_test_score</th>\n",
       "      <th>rank_test_score</th>\n",
       "    </tr>\n",
       "  </thead>\n",
       "  <tbody>\n",
       "    <tr>\n",
       "      <th>15</th>\n",
       "      <td>0.098340</td>\n",
       "      <td>0.006854</td>\n",
       "      <td>0.010594</td>\n",
       "      <td>0.002726</td>\n",
       "      <td>1.0</td>\n",
       "      <td>4000</td>\n",
       "      <td>1</td>\n",
       "      <td>(1, 1)</td>\n",
       "      <td>english</td>\n",
       "      <td>{'logreg__C': 1.0, 'tvec__max_features': 4000,...</td>\n",
       "      <td>0.860577</td>\n",
       "      <td>0.862179</td>\n",
       "      <td>0.886035</td>\n",
       "      <td>0.857143</td>\n",
       "      <td>0.858748</td>\n",
       "      <td>0.864937</td>\n",
       "      <td>0.010685</td>\n",
       "      <td>1</td>\n",
       "    </tr>\n",
       "    <tr>\n",
       "      <th>30</th>\n",
       "      <td>0.096153</td>\n",
       "      <td>0.010077</td>\n",
       "      <td>0.013549</td>\n",
       "      <td>0.004406</td>\n",
       "      <td>1.0</td>\n",
       "      <td>6000</td>\n",
       "      <td>1</td>\n",
       "      <td>(1, 1)</td>\n",
       "      <td>english</td>\n",
       "      <td>{'logreg__C': 1.0, 'tvec__max_features': 6000,...</td>\n",
       "      <td>0.857372</td>\n",
       "      <td>0.865385</td>\n",
       "      <td>0.887640</td>\n",
       "      <td>0.855538</td>\n",
       "      <td>0.858748</td>\n",
       "      <td>0.864937</td>\n",
       "      <td>0.011828</td>\n",
       "      <td>1</td>\n",
       "    </tr>\n",
       "    <tr>\n",
       "      <th>31</th>\n",
       "      <td>0.147583</td>\n",
       "      <td>0.013903</td>\n",
       "      <td>0.016570</td>\n",
       "      <td>0.002461</td>\n",
       "      <td>1.0</td>\n",
       "      <td>6000</td>\n",
       "      <td>1</td>\n",
       "      <td>(1, 2)</td>\n",
       "      <td>english</td>\n",
       "      <td>{'logreg__C': 1.0, 'tvec__max_features': 6000,...</td>\n",
       "      <td>0.855769</td>\n",
       "      <td>0.865385</td>\n",
       "      <td>0.886035</td>\n",
       "      <td>0.849117</td>\n",
       "      <td>0.857143</td>\n",
       "      <td>0.862690</td>\n",
       "      <td>0.012768</td>\n",
       "      <td>3</td>\n",
       "    </tr>\n",
       "    <tr>\n",
       "      <th>32</th>\n",
       "      <td>0.188023</td>\n",
       "      <td>0.013056</td>\n",
       "      <td>0.016794</td>\n",
       "      <td>0.000400</td>\n",
       "      <td>1.0</td>\n",
       "      <td>6000</td>\n",
       "      <td>1</td>\n",
       "      <td>(1, 3)</td>\n",
       "      <td>english</td>\n",
       "      <td>{'logreg__C': 1.0, 'tvec__max_features': 6000,...</td>\n",
       "      <td>0.847756</td>\n",
       "      <td>0.865385</td>\n",
       "      <td>0.884430</td>\n",
       "      <td>0.852327</td>\n",
       "      <td>0.858748</td>\n",
       "      <td>0.861729</td>\n",
       "      <td>0.012816</td>\n",
       "      <td>4</td>\n",
       "    </tr>\n",
       "    <tr>\n",
       "      <th>33</th>\n",
       "      <td>0.078468</td>\n",
       "      <td>0.003325</td>\n",
       "      <td>0.013356</td>\n",
       "      <td>0.003976</td>\n",
       "      <td>1.0</td>\n",
       "      <td>6000</td>\n",
       "      <td>2</td>\n",
       "      <td>(1, 1)</td>\n",
       "      <td>english</td>\n",
       "      <td>{'logreg__C': 1.0, 'tvec__max_features': 6000,...</td>\n",
       "      <td>0.844551</td>\n",
       "      <td>0.858974</td>\n",
       "      <td>0.889246</td>\n",
       "      <td>0.853933</td>\n",
       "      <td>0.858748</td>\n",
       "      <td>0.861090</td>\n",
       "      <td>0.015016</td>\n",
       "      <td>5</td>\n",
       "    </tr>\n",
       "    <tr>\n",
       "      <th>18</th>\n",
       "      <td>0.085947</td>\n",
       "      <td>0.007559</td>\n",
       "      <td>0.010793</td>\n",
       "      <td>0.001166</td>\n",
       "      <td>1.0</td>\n",
       "      <td>4000</td>\n",
       "      <td>2</td>\n",
       "      <td>(1, 1)</td>\n",
       "      <td>english</td>\n",
       "      <td>{'logreg__C': 1.0, 'tvec__max_features': 4000,...</td>\n",
       "      <td>0.844551</td>\n",
       "      <td>0.858974</td>\n",
       "      <td>0.889246</td>\n",
       "      <td>0.853933</td>\n",
       "      <td>0.858748</td>\n",
       "      <td>0.861090</td>\n",
       "      <td>0.015016</td>\n",
       "      <td>5</td>\n",
       "    </tr>\n",
       "    <tr>\n",
       "      <th>3</th>\n",
       "      <td>0.084540</td>\n",
       "      <td>0.006591</td>\n",
       "      <td>0.010794</td>\n",
       "      <td>0.000979</td>\n",
       "      <td>1.0</td>\n",
       "      <td>2000</td>\n",
       "      <td>2</td>\n",
       "      <td>(1, 1)</td>\n",
       "      <td>english</td>\n",
       "      <td>{'logreg__C': 1.0, 'tvec__max_features': 2000,...</td>\n",
       "      <td>0.844551</td>\n",
       "      <td>0.858974</td>\n",
       "      <td>0.889246</td>\n",
       "      <td>0.853933</td>\n",
       "      <td>0.858748</td>\n",
       "      <td>0.861090</td>\n",
       "      <td>0.015016</td>\n",
       "      <td>5</td>\n",
       "    </tr>\n",
       "    <tr>\n",
       "      <th>17</th>\n",
       "      <td>0.173547</td>\n",
       "      <td>0.007730</td>\n",
       "      <td>0.017789</td>\n",
       "      <td>0.002225</td>\n",
       "      <td>1.0</td>\n",
       "      <td>4000</td>\n",
       "      <td>1</td>\n",
       "      <td>(1, 3)</td>\n",
       "      <td>english</td>\n",
       "      <td>{'logreg__C': 1.0, 'tvec__max_features': 4000,...</td>\n",
       "      <td>0.850962</td>\n",
       "      <td>0.862179</td>\n",
       "      <td>0.876404</td>\n",
       "      <td>0.858748</td>\n",
       "      <td>0.857143</td>\n",
       "      <td>0.861087</td>\n",
       "      <td>0.008478</td>\n",
       "      <td>8</td>\n",
       "    </tr>\n",
       "    <tr>\n",
       "      <th>0</th>\n",
       "      <td>0.085947</td>\n",
       "      <td>0.004687</td>\n",
       "      <td>0.010593</td>\n",
       "      <td>0.001019</td>\n",
       "      <td>1.0</td>\n",
       "      <td>2000</td>\n",
       "      <td>1</td>\n",
       "      <td>(1, 1)</td>\n",
       "      <td>english</td>\n",
       "      <td>{'logreg__C': 1.0, 'tvec__max_features': 2000,...</td>\n",
       "      <td>0.842949</td>\n",
       "      <td>0.855769</td>\n",
       "      <td>0.886035</td>\n",
       "      <td>0.855538</td>\n",
       "      <td>0.863563</td>\n",
       "      <td>0.860771</td>\n",
       "      <td>0.014256</td>\n",
       "      <td>9</td>\n",
       "    </tr>\n",
       "    <tr>\n",
       "      <th>35</th>\n",
       "      <td>0.160405</td>\n",
       "      <td>0.013149</td>\n",
       "      <td>0.018188</td>\n",
       "      <td>0.001599</td>\n",
       "      <td>1.0</td>\n",
       "      <td>6000</td>\n",
       "      <td>2</td>\n",
       "      <td>(1, 3)</td>\n",
       "      <td>english</td>\n",
       "      <td>{'logreg__C': 1.0, 'tvec__max_features': 6000,...</td>\n",
       "      <td>0.846154</td>\n",
       "      <td>0.860577</td>\n",
       "      <td>0.884430</td>\n",
       "      <td>0.852327</td>\n",
       "      <td>0.860353</td>\n",
       "      <td>0.860768</td>\n",
       "      <td>0.012999</td>\n",
       "      <td>10</td>\n",
       "    </tr>\n",
       "  </tbody>\n",
       "</table>\n",
       "</div>"
      ],
      "text/plain": [
       "    mean_fit_time  std_fit_time  mean_score_time  std_score_time  \\\n",
       "15       0.098340      0.006854         0.010594        0.002726   \n",
       "30       0.096153      0.010077         0.013549        0.004406   \n",
       "31       0.147583      0.013903         0.016570        0.002461   \n",
       "32       0.188023      0.013056         0.016794        0.000400   \n",
       "33       0.078468      0.003325         0.013356        0.003976   \n",
       "18       0.085947      0.007559         0.010793        0.001166   \n",
       "3        0.084540      0.006591         0.010794        0.000979   \n",
       "17       0.173547      0.007730         0.017789        0.002225   \n",
       "0        0.085947      0.004687         0.010593        0.001019   \n",
       "35       0.160405      0.013149         0.018188        0.001599   \n",
       "\n",
       "   param_logreg__C param_tvec__max_features param_tvec__min_df  \\\n",
       "15             1.0                     4000                  1   \n",
       "30             1.0                     6000                  1   \n",
       "31             1.0                     6000                  1   \n",
       "32             1.0                     6000                  1   \n",
       "33             1.0                     6000                  2   \n",
       "18             1.0                     4000                  2   \n",
       "3              1.0                     2000                  2   \n",
       "17             1.0                     4000                  1   \n",
       "0              1.0                     2000                  1   \n",
       "35             1.0                     6000                  2   \n",
       "\n",
       "   param_tvec__ngram_range param_tvec__stop_words  \\\n",
       "15                  (1, 1)                english   \n",
       "30                  (1, 1)                english   \n",
       "31                  (1, 2)                english   \n",
       "32                  (1, 3)                english   \n",
       "33                  (1, 1)                english   \n",
       "18                  (1, 1)                english   \n",
       "3                   (1, 1)                english   \n",
       "17                  (1, 3)                english   \n",
       "0                   (1, 1)                english   \n",
       "35                  (1, 3)                english   \n",
       "\n",
       "                                               params  split0_test_score  \\\n",
       "15  {'logreg__C': 1.0, 'tvec__max_features': 4000,...           0.860577   \n",
       "30  {'logreg__C': 1.0, 'tvec__max_features': 6000,...           0.857372   \n",
       "31  {'logreg__C': 1.0, 'tvec__max_features': 6000,...           0.855769   \n",
       "32  {'logreg__C': 1.0, 'tvec__max_features': 6000,...           0.847756   \n",
       "33  {'logreg__C': 1.0, 'tvec__max_features': 6000,...           0.844551   \n",
       "18  {'logreg__C': 1.0, 'tvec__max_features': 4000,...           0.844551   \n",
       "3   {'logreg__C': 1.0, 'tvec__max_features': 2000,...           0.844551   \n",
       "17  {'logreg__C': 1.0, 'tvec__max_features': 4000,...           0.850962   \n",
       "0   {'logreg__C': 1.0, 'tvec__max_features': 2000,...           0.842949   \n",
       "35  {'logreg__C': 1.0, 'tvec__max_features': 6000,...           0.846154   \n",
       "\n",
       "    split1_test_score  split2_test_score  split3_test_score  \\\n",
       "15           0.862179           0.886035           0.857143   \n",
       "30           0.865385           0.887640           0.855538   \n",
       "31           0.865385           0.886035           0.849117   \n",
       "32           0.865385           0.884430           0.852327   \n",
       "33           0.858974           0.889246           0.853933   \n",
       "18           0.858974           0.889246           0.853933   \n",
       "3            0.858974           0.889246           0.853933   \n",
       "17           0.862179           0.876404           0.858748   \n",
       "0            0.855769           0.886035           0.855538   \n",
       "35           0.860577           0.884430           0.852327   \n",
       "\n",
       "    split4_test_score  mean_test_score  std_test_score  rank_test_score  \n",
       "15           0.858748         0.864937        0.010685                1  \n",
       "30           0.858748         0.864937        0.011828                1  \n",
       "31           0.857143         0.862690        0.012768                3  \n",
       "32           0.858748         0.861729        0.012816                4  \n",
       "33           0.858748         0.861090        0.015016                5  \n",
       "18           0.858748         0.861090        0.015016                5  \n",
       "3            0.858748         0.861090        0.015016                5  \n",
       "17           0.857143         0.861087        0.008478                8  \n",
       "0            0.863563         0.860771        0.014256                9  \n",
       "35           0.860353         0.860768        0.012999               10  "
      ]
     },
     "execution_count": 144,
     "metadata": {},
     "output_type": "execute_result"
    }
   ],
   "source": [
    "# Looking at the top 10 score to understand which are the common parameters\n",
    "pd.DataFrame(gs_tvec.cv_results_).sort_values(by='rank_test_score').head(10)"
   ]
  },
  {
   "cell_type": "code",
   "execution_count": 145,
   "id": "160601bd",
   "metadata": {},
   "outputs": [
    {
     "name": "stdout",
     "output_type": "stream",
     "text": [
      "Train Accuracy: 0.9701636188642926\n",
      "TrainCV Accuracy: 0.8649365147960653\n",
      "Test Accuracy: 0.8729547641963427\n",
      "Sensitivity: 0.8820116054158608\n",
      "Specificity: 0.8639846743295019\n",
      "Best Parameters: {'logreg__C': 1.0, 'tvec__max_features': 4000, 'tvec__min_df': 1, 'tvec__ngram_range': (1, 1), 'tvec__stop_words': 'english'}\n",
      "Best Estimator: Pipeline(steps=[('tvec',\n",
      "                 TfidfVectorizer(max_features=4000, stop_words='english')),\n",
      "                ('logreg', LogisticRegression())])\n"
     ]
    },
    {
     "data": {
      "image/png": "[encoded data removed]",
      "text/plain": [
       "<Figure size 432x288 with 2 Axes>"
      ]
     },
     "metadata": {
      "needs_background": "light"
     },
     "output_type": "display_data"
    }
   ],
   "source": [
    "result = model_metrics(gs_tvec, X_train, y_train, X_test, y_test)"
   ]
  },
  {
   "cell_type": "markdown",
   "id": "19194440",
   "metadata": {},
   "source": [
    "#### TfidfVectorizer + Navie Bayes"
   ]
  },
  {
   "cell_type": "code",
   "execution_count": 158,
   "id": "cfe29349",
   "metadata": {},
   "outputs": [
    {
     "name": "stdout",
     "output_type": "stream",
     "text": [
      "Fitting 5 folds for each of 45 candidates, totalling 225 fits\n"
     ]
    },
    {
     "data": {
      "text/plain": [
       "GridSearchCV(cv=5,\n",
       "             estimator=Pipeline(steps=[('tvec', TfidfVectorizer()),\n",
       "                                       ('nb', MultinomialNB())]),\n",
       "             param_grid={'tvec__max_features': [2000, 4000, 6000],\n",
       "                         'tvec__min_df': [1, 2, 5, 10, 20],\n",
       "                         'tvec__ngram_range': [(1, 1), (1, 2), (1, 3)],\n",
       "                         'tvec__stop_words': ['english']},\n",
       "             verbose=1)"
      ]
     },
     "execution_count": 158,
     "metadata": {},
     "output_type": "execute_result"
    }
   ],
   "source": [
    "# Instantiate Pipeline with TfidfVectorizer and Navie Bayes\n",
    "pipe = Pipeline([\n",
    "    ('tvec', TfidfVectorizer()),\n",
    "    ('nb', MultinomialNB())    \n",
    "])\n",
    "\n",
    "# Grid Search Parameters\n",
    "pipe_tvec_params = {\n",
    "    'tvec__stop_words': ['english'],\n",
    "    'tvec__ngram_range': [(1,1), (1,2), (1,3)],\n",
    "    'tvec__max_features': [2000, 4000, 6000],\n",
    "    'tvec__min_df': [1, 2, 5, 10, 20],\n",
    "}\n",
    "\n",
    "# Instantiate GridSearch and fit model using data\n",
    "gs_tvec = GridSearchCV(pipe, param_grid=pipe_tvec_params, cv=5, verbose=1)\n",
    "gs_tvec.fit(X_train, y_train)"
   ]
  },
  {
   "cell_type": "code",
   "execution_count": 147,
   "id": "2059eeef",
   "metadata": {},
   "outputs": [
    {
     "data": {
      "text/html": [
       "<div>\n",
       "<style scoped>\n",
       "    .dataframe tbody tr th:only-of-type {\n",
       "        vertical-align: middle;\n",
       "    }\n",
       "\n",
       "    .dataframe tbody tr th {\n",
       "        vertical-align: top;\n",
       "    }\n",
       "\n",
       "    .dataframe thead th {\n",
       "        text-align: right;\n",
       "    }\n",
       "</style>\n",
       "<table border=\"1\" class=\"dataframe\">\n",
       "  <thead>\n",
       "    <tr style=\"text-align: right;\">\n",
       "      <th></th>\n",
       "      <th>mean_fit_time</th>\n",
       "      <th>std_fit_time</th>\n",
       "      <th>mean_score_time</th>\n",
       "      <th>std_score_time</th>\n",
       "      <th>param_tvec__max_features</th>\n",
       "      <th>param_tvec__min_df</th>\n",
       "      <th>param_tvec__ngram_range</th>\n",
       "      <th>param_tvec__stop_words</th>\n",
       "      <th>params</th>\n",
       "      <th>split0_test_score</th>\n",
       "      <th>split1_test_score</th>\n",
       "      <th>split2_test_score</th>\n",
       "      <th>split3_test_score</th>\n",
       "      <th>split4_test_score</th>\n",
       "      <th>mean_test_score</th>\n",
       "      <th>std_test_score</th>\n",
       "      <th>rank_test_score</th>\n",
       "    </tr>\n",
       "  </thead>\n",
       "  <tbody>\n",
       "    <tr>\n",
       "      <th>30</th>\n",
       "      <td>0.057722</td>\n",
       "      <td>0.005598</td>\n",
       "      <td>0.016190</td>\n",
       "      <td>0.006907</td>\n",
       "      <td>6000</td>\n",
       "      <td>1</td>\n",
       "      <td>(1, 1)</td>\n",
       "      <td>english</td>\n",
       "      <td>{'tvec__max_features': 6000, 'tvec__min_df': 1...</td>\n",
       "      <td>0.854167</td>\n",
       "      <td>0.863782</td>\n",
       "      <td>0.878010</td>\n",
       "      <td>0.837881</td>\n",
       "      <td>0.847512</td>\n",
       "      <td>0.856270</td>\n",
       "      <td>0.013772</td>\n",
       "      <td>1</td>\n",
       "    </tr>\n",
       "    <tr>\n",
       "      <th>15</th>\n",
       "      <td>0.057165</td>\n",
       "      <td>0.004953</td>\n",
       "      <td>0.021787</td>\n",
       "      <td>0.011781</td>\n",
       "      <td>4000</td>\n",
       "      <td>1</td>\n",
       "      <td>(1, 1)</td>\n",
       "      <td>english</td>\n",
       "      <td>{'tvec__max_features': 4000, 'tvec__min_df': 1...</td>\n",
       "      <td>0.854167</td>\n",
       "      <td>0.860577</td>\n",
       "      <td>0.878010</td>\n",
       "      <td>0.839486</td>\n",
       "      <td>0.847512</td>\n",
       "      <td>0.855950</td>\n",
       "      <td>0.013065</td>\n",
       "      <td>2</td>\n",
       "    </tr>\n",
       "    <tr>\n",
       "      <th>31</th>\n",
       "      <td>0.090344</td>\n",
       "      <td>0.003665</td>\n",
       "      <td>0.016790</td>\n",
       "      <td>0.003428</td>\n",
       "      <td>6000</td>\n",
       "      <td>1</td>\n",
       "      <td>(1, 2)</td>\n",
       "      <td>english</td>\n",
       "      <td>{'tvec__max_features': 6000, 'tvec__min_df': 1...</td>\n",
       "      <td>0.855769</td>\n",
       "      <td>0.852564</td>\n",
       "      <td>0.874799</td>\n",
       "      <td>0.831461</td>\n",
       "      <td>0.831461</td>\n",
       "      <td>0.849211</td>\n",
       "      <td>0.016366</td>\n",
       "      <td>3</td>\n",
       "    </tr>\n",
       "    <tr>\n",
       "      <th>16</th>\n",
       "      <td>0.093846</td>\n",
       "      <td>0.011100</td>\n",
       "      <td>0.018586</td>\n",
       "      <td>0.003133</td>\n",
       "      <td>4000</td>\n",
       "      <td>1</td>\n",
       "      <td>(1, 2)</td>\n",
       "      <td>english</td>\n",
       "      <td>{'tvec__max_features': 4000, 'tvec__min_df': 1...</td>\n",
       "      <td>0.852564</td>\n",
       "      <td>0.850962</td>\n",
       "      <td>0.874799</td>\n",
       "      <td>0.831461</td>\n",
       "      <td>0.834671</td>\n",
       "      <td>0.848891</td>\n",
       "      <td>0.015460</td>\n",
       "      <td>4</td>\n",
       "    </tr>\n",
       "    <tr>\n",
       "      <th>32</th>\n",
       "      <td>0.123724</td>\n",
       "      <td>0.013113</td>\n",
       "      <td>0.017989</td>\n",
       "      <td>0.002096</td>\n",
       "      <td>6000</td>\n",
       "      <td>1</td>\n",
       "      <td>(1, 3)</td>\n",
       "      <td>english</td>\n",
       "      <td>{'tvec__max_features': 6000, 'tvec__min_df': 1...</td>\n",
       "      <td>0.844551</td>\n",
       "      <td>0.850962</td>\n",
       "      <td>0.873194</td>\n",
       "      <td>0.829856</td>\n",
       "      <td>0.834671</td>\n",
       "      <td>0.846647</td>\n",
       "      <td>0.015186</td>\n",
       "      <td>5</td>\n",
       "    </tr>\n",
       "    <tr>\n",
       "      <th>17</th>\n",
       "      <td>0.129009</td>\n",
       "      <td>0.017795</td>\n",
       "      <td>0.019388</td>\n",
       "      <td>0.002652</td>\n",
       "      <td>4000</td>\n",
       "      <td>1</td>\n",
       "      <td>(1, 3)</td>\n",
       "      <td>english</td>\n",
       "      <td>{'tvec__max_features': 4000, 'tvec__min_df': 1...</td>\n",
       "      <td>0.846154</td>\n",
       "      <td>0.850962</td>\n",
       "      <td>0.878010</td>\n",
       "      <td>0.823435</td>\n",
       "      <td>0.834671</td>\n",
       "      <td>0.846646</td>\n",
       "      <td>0.018356</td>\n",
       "      <td>6</td>\n",
       "    </tr>\n",
       "    <tr>\n",
       "      <th>0</th>\n",
       "      <td>0.051722</td>\n",
       "      <td>0.003449</td>\n",
       "      <td>0.011792</td>\n",
       "      <td>0.001326</td>\n",
       "      <td>2000</td>\n",
       "      <td>1</td>\n",
       "      <td>(1, 1)</td>\n",
       "      <td>english</td>\n",
       "      <td>{'tvec__max_features': 2000, 'tvec__min_df': 1...</td>\n",
       "      <td>0.842949</td>\n",
       "      <td>0.854167</td>\n",
       "      <td>0.874799</td>\n",
       "      <td>0.821830</td>\n",
       "      <td>0.829856</td>\n",
       "      <td>0.844720</td>\n",
       "      <td>0.018666</td>\n",
       "      <td>7</td>\n",
       "    </tr>\n",
       "    <tr>\n",
       "      <th>19</th>\n",
       "      <td>0.092340</td>\n",
       "      <td>0.003385</td>\n",
       "      <td>0.016389</td>\n",
       "      <td>0.003070</td>\n",
       "      <td>4000</td>\n",
       "      <td>2</td>\n",
       "      <td>(1, 2)</td>\n",
       "      <td>english</td>\n",
       "      <td>{'tvec__max_features': 4000, 'tvec__min_df': 2...</td>\n",
       "      <td>0.841346</td>\n",
       "      <td>0.842949</td>\n",
       "      <td>0.876404</td>\n",
       "      <td>0.820225</td>\n",
       "      <td>0.834671</td>\n",
       "      <td>0.843119</td>\n",
       "      <td>0.018475</td>\n",
       "      <td>8</td>\n",
       "    </tr>\n",
       "    <tr>\n",
       "      <th>34</th>\n",
       "      <td>0.088744</td>\n",
       "      <td>0.003967</td>\n",
       "      <td>0.018189</td>\n",
       "      <td>0.005150</td>\n",
       "      <td>6000</td>\n",
       "      <td>2</td>\n",
       "      <td>(1, 2)</td>\n",
       "      <td>english</td>\n",
       "      <td>{'tvec__max_features': 6000, 'tvec__min_df': 2...</td>\n",
       "      <td>0.841346</td>\n",
       "      <td>0.842949</td>\n",
       "      <td>0.876404</td>\n",
       "      <td>0.820225</td>\n",
       "      <td>0.834671</td>\n",
       "      <td>0.843119</td>\n",
       "      <td>0.018475</td>\n",
       "      <td>8</td>\n",
       "    </tr>\n",
       "    <tr>\n",
       "      <th>35</th>\n",
       "      <td>0.131919</td>\n",
       "      <td>0.008385</td>\n",
       "      <td>0.018987</td>\n",
       "      <td>0.001999</td>\n",
       "      <td>6000</td>\n",
       "      <td>2</td>\n",
       "      <td>(1, 3)</td>\n",
       "      <td>english</td>\n",
       "      <td>{'tvec__max_features': 6000, 'tvec__min_df': 2...</td>\n",
       "      <td>0.841346</td>\n",
       "      <td>0.844551</td>\n",
       "      <td>0.876404</td>\n",
       "      <td>0.820225</td>\n",
       "      <td>0.833066</td>\n",
       "      <td>0.843118</td>\n",
       "      <td>0.018646</td>\n",
       "      <td>10</td>\n",
       "    </tr>\n",
       "  </tbody>\n",
       "</table>\n",
       "</div>"
      ],
      "text/plain": [
       "    mean_fit_time  std_fit_time  mean_score_time  std_score_time  \\\n",
       "30       0.057722      0.005598         0.016190        0.006907   \n",
       "15       0.057165      0.004953         0.021787        0.011781   \n",
       "31       0.090344      0.003665         0.016790        0.003428   \n",
       "16       0.093846      0.011100         0.018586        0.003133   \n",
       "32       0.123724      0.013113         0.017989        0.002096   \n",
       "17       0.129009      0.017795         0.019388        0.002652   \n",
       "0        0.051722      0.003449         0.011792        0.001326   \n",
       "19       0.092340      0.003385         0.016389        0.003070   \n",
       "34       0.088744      0.003967         0.018189        0.005150   \n",
       "35       0.131919      0.008385         0.018987        0.001999   \n",
       "\n",
       "   param_tvec__max_features param_tvec__min_df param_tvec__ngram_range  \\\n",
       "30                     6000                  1                  (1, 1)   \n",
       "15                     4000                  1                  (1, 1)   \n",
       "31                     6000                  1                  (1, 2)   \n",
       "16                     4000                  1                  (1, 2)   \n",
       "32                     6000                  1                  (1, 3)   \n",
       "17                     4000                  1                  (1, 3)   \n",
       "0                      2000                  1                  (1, 1)   \n",
       "19                     4000                  2                  (1, 2)   \n",
       "34                     6000                  2                  (1, 2)   \n",
       "35                     6000                  2                  (1, 3)   \n",
       "\n",
       "   param_tvec__stop_words                                             params  \\\n",
       "30                english  {'tvec__max_features': 6000, 'tvec__min_df': 1...   \n",
       "15                english  {'tvec__max_features': 4000, 'tvec__min_df': 1...   \n",
       "31                english  {'tvec__max_features': 6000, 'tvec__min_df': 1...   \n",
       "16                english  {'tvec__max_features': 4000, 'tvec__min_df': 1...   \n",
       "32                english  {'tvec__max_features': 6000, 'tvec__min_df': 1...   \n",
       "17                english  {'tvec__max_features': 4000, 'tvec__min_df': 1...   \n",
       "0                 english  {'tvec__max_features': 2000, 'tvec__min_df': 1...   \n",
       "19                english  {'tvec__max_features': 4000, 'tvec__min_df': 2...   \n",
       "34                english  {'tvec__max_features': 6000, 'tvec__min_df': 2...   \n",
       "35                english  {'tvec__max_features': 6000, 'tvec__min_df': 2...   \n",
       "\n",
       "    split0_test_score  split1_test_score  split2_test_score  \\\n",
       "30           0.854167           0.863782           0.878010   \n",
       "15           0.854167           0.860577           0.878010   \n",
       "31           0.855769           0.852564           0.874799   \n",
       "16           0.852564           0.850962           0.874799   \n",
       "32           0.844551           0.850962           0.873194   \n",
       "17           0.846154           0.850962           0.878010   \n",
       "0            0.842949           0.854167           0.874799   \n",
       "19           0.841346           0.842949           0.876404   \n",
       "34           0.841346           0.842949           0.876404   \n",
       "35           0.841346           0.844551           0.876404   \n",
       "\n",
       "    split3_test_score  split4_test_score  mean_test_score  std_test_score  \\\n",
       "30           0.837881           0.847512         0.856270        0.013772   \n",
       "15           0.839486           0.847512         0.855950        0.013065   \n",
       "31           0.831461           0.831461         0.849211        0.016366   \n",
       "16           0.831461           0.834671         0.848891        0.015460   \n",
       "32           0.829856           0.834671         0.846647        0.015186   \n",
       "17           0.823435           0.834671         0.846646        0.018356   \n",
       "0            0.821830           0.829856         0.844720        0.018666   \n",
       "19           0.820225           0.834671         0.843119        0.018475   \n",
       "34           0.820225           0.834671         0.843119        0.018475   \n",
       "35           0.820225           0.833066         0.843118        0.018646   \n",
       "\n",
       "    rank_test_score  \n",
       "30                1  \n",
       "15                2  \n",
       "31                3  \n",
       "16                4  \n",
       "32                5  \n",
       "17                6  \n",
       "0                 7  \n",
       "19                8  \n",
       "34                8  \n",
       "35               10  "
      ]
     },
     "execution_count": 147,
     "metadata": {},
     "output_type": "execute_result"
    }
   ],
   "source": [
    "# Looking at the top 10 score to understand which are the common parameters\n",
    "pd.DataFrame(gs_tvec.cv_results_).sort_values(by='rank_test_score').head(10)"
   ]
  },
  {
   "cell_type": "code",
   "execution_count": 148,
   "id": "df916445",
   "metadata": {},
   "outputs": [
    {
     "data": {
      "text/plain": [
       "0.8562703214388607"
      ]
     },
     "execution_count": 148,
     "metadata": {},
     "output_type": "execute_result"
    }
   ],
   "source": [
    "# Best Score\n",
    "gs_tvec.best_score_"
   ]
  },
  {
   "cell_type": "code",
   "execution_count": 149,
   "id": "aeb7d42c",
   "metadata": {},
   "outputs": [
    {
     "data": {
      "text/plain": [
       "{'tvec__max_features': 6000,\n",
       " 'tvec__min_df': 1,\n",
       " 'tvec__ngram_range': (1, 1),\n",
       " 'tvec__stop_words': 'english'}"
      ]
     },
     "execution_count": 149,
     "metadata": {},
     "output_type": "execute_result"
    }
   ],
   "source": [
    "# Best Parameters\n",
    "gs_tvec.best_params_"
   ]
  },
  {
   "cell_type": "code",
   "execution_count": 150,
   "id": "878b0500",
   "metadata": {},
   "outputs": [
    {
     "data": {
      "text/plain": [
       "0.8546679499518768"
      ]
     },
     "execution_count": 150,
     "metadata": {},
     "output_type": "execute_result"
    }
   ],
   "source": [
    "# Test Score\n",
    "gs_tvec.score(X_test, y_test)"
   ]
  },
  {
   "cell_type": "code",
   "execution_count": 151,
   "id": "9deadc29",
   "metadata": {},
   "outputs": [
    {
     "data": {
      "text/plain": [
       "<sklearn.metrics._plot.confusion_matrix.ConfusionMatrixDisplay at 0x1cb09d24460>"
      ]
     },
     "execution_count": 151,
     "metadata": {},
     "output_type": "execute_result"
    },
    {
     "data": {
      "image/png": "[encoded data removed]",
      "text/plain": [
       "<Figure size 432x288 with 2 Axes>"
      ]
     },
     "metadata": {
      "needs_background": "light"
     },
     "output_type": "display_data"
    }
   ],
   "source": [
    "# Confusion Matrix\n",
    "plot_confusion_matrix(gs_tvec, X_test, y_test)"
   ]
  },
  {
   "cell_type": "code",
   "execution_count": 152,
   "id": "c49aba5f",
   "metadata": {},
   "outputs": [
    {
     "name": "stdout",
     "output_type": "stream",
     "text": [
      "Train Accuracy: 0.9560474815527751\n",
      "TrainCV Accuracy: 0.8562703214388607\n",
      "Test Accuracy: 0.8546679499518768\n",
      "Sensitivity: 0.8259187620889749\n",
      "Specificity: 0.8831417624521073\n",
      "Best Parameters: {'tvec__max_features': 6000, 'tvec__min_df': 1, 'tvec__ngram_range': (1, 1), 'tvec__stop_words': 'english'}\n",
      "Best Estimator: Pipeline(steps=[('tvec',\n",
      "                 TfidfVectorizer(max_features=6000, stop_words='english')),\n",
      "                ('nb', MultinomialNB())])\n"
     ]
    },
    {
     "data": {
      "image/png": "[encoded data removed]",
      "text/plain": [
       "<Figure size 432x288 with 2 Axes>"
      ]
     },
     "metadata": {
      "needs_background": "light"
     },
     "output_type": "display_data"
    }
   ],
   "source": [
    "result = pd.concat([result, model_metrics(gs_tvec, X_train, y_train, X_test, y_test)])"
   ]
  },
  {
   "cell_type": "code",
   "execution_count": 153,
   "id": "c11b38c6",
   "metadata": {},
   "outputs": [
    {
     "data": {
      "text/html": [
       "<div>\n",
       "<style scoped>\n",
       "    .dataframe tbody tr th:only-of-type {\n",
       "        vertical-align: middle;\n",
       "    }\n",
       "\n",
       "    .dataframe tbody tr th {\n",
       "        vertical-align: top;\n",
       "    }\n",
       "\n",
       "    .dataframe thead th {\n",
       "        text-align: right;\n",
       "    }\n",
       "</style>\n",
       "<table border=\"1\" class=\"dataframe\">\n",
       "  <thead>\n",
       "    <tr style=\"text-align: right;\">\n",
       "      <th></th>\n",
       "      <th>train_accuracy</th>\n",
       "      <th>trainCV_accuracy</th>\n",
       "      <th>test_accuracy</th>\n",
       "      <th>tn</th>\n",
       "      <th>fp</th>\n",
       "      <th>fn</th>\n",
       "      <th>tp</th>\n",
       "      <th>sensitivity</th>\n",
       "      <th>specificity</th>\n",
       "      <th>best_params</th>\n",
       "      <th>best_estimator</th>\n",
       "    </tr>\n",
       "  </thead>\n",
       "  <tbody>\n",
       "    <tr>\n",
       "      <th>0</th>\n",
       "      <td>0.970164</td>\n",
       "      <td>0.864937</td>\n",
       "      <td>0.872955</td>\n",
       "      <td>451</td>\n",
       "      <td>71</td>\n",
       "      <td>61</td>\n",
       "      <td>456</td>\n",
       "      <td>0.882012</td>\n",
       "      <td>0.863985</td>\n",
       "      <td>{'logreg__C': 1.0, 'tvec__max_features': 4000,...</td>\n",
       "      <td>(TfidfVectorizer(max_features=4000, stop_words...</td>\n",
       "    </tr>\n",
       "    <tr>\n",
       "      <th>0</th>\n",
       "      <td>0.956047</td>\n",
       "      <td>0.856270</td>\n",
       "      <td>0.854668</td>\n",
       "      <td>461</td>\n",
       "      <td>61</td>\n",
       "      <td>90</td>\n",
       "      <td>427</td>\n",
       "      <td>0.825919</td>\n",
       "      <td>0.883142</td>\n",
       "      <td>{'tvec__max_features': 6000, 'tvec__min_df': 1...</td>\n",
       "      <td>(TfidfVectorizer(max_features=6000, stop_words...</td>\n",
       "    </tr>\n",
       "  </tbody>\n",
       "</table>\n",
       "</div>"
      ],
      "text/plain": [
       "   train_accuracy  trainCV_accuracy  test_accuracy   tn  fp  fn   tp  \\\n",
       "0        0.970164          0.864937       0.872955  451  71  61  456   \n",
       "0        0.956047          0.856270       0.854668  461  61  90  427   \n",
       "\n",
       "   sensitivity  specificity  \\\n",
       "0     0.882012     0.863985   \n",
       "0     0.825919     0.883142   \n",
       "\n",
       "                                         best_params  \\\n",
       "0  {'logreg__C': 1.0, 'tvec__max_features': 4000,...   \n",
       "0  {'tvec__max_features': 6000, 'tvec__min_df': 1...   \n",
       "\n",
       "                                      best_estimator  \n",
       "0  (TfidfVectorizer(max_features=4000, stop_words...  \n",
       "0  (TfidfVectorizer(max_features=6000, stop_words...  "
      ]
     },
     "execution_count": 153,
     "metadata": {},
     "output_type": "execute_result"
    }
   ],
   "source": [
    "result"
   ]
  },
  {
   "cell_type": "markdown",
   "id": "2d92b925",
   "metadata": {},
   "source": [
    "#### CountVectorizer + Logisitc Regression"
   ]
  },
  {
   "cell_type": "code",
   "execution_count": 159,
   "id": "3f514dd1",
   "metadata": {},
   "outputs": [
    {
     "name": "stdout",
     "output_type": "stream",
     "text": [
      "Fitting 5 folds for each of 135 candidates, totalling 675 fits\n"
     ]
    },
    {
     "data": {
      "text/plain": [
       "GridSearchCV(cv=5,\n",
       "             estimator=Pipeline(steps=[('cvec', CountVectorizer()),\n",
       "                                       ('logreg', LogisticRegression())]),\n",
       "             param_grid={'cvec__max_features': [2000, 4000, 6000],\n",
       "                         'cvec__min_df': [1, 2, 5, 10, 20],\n",
       "                         'cvec__ngram_range': [(1, 1), (1, 2), (1, 3)],\n",
       "                         'cvec__stop_words': ['english'],\n",
       "                         'logreg__C': array([1.  , 0.1 , 0.01])},\n",
       "             verbose=1)"
      ]
     },
     "execution_count": 159,
     "metadata": {},
     "output_type": "execute_result"
    }
   ],
   "source": [
    "# Instantiate Pipeline with CountVectorizer and Logisitic Regression\n",
    "pipe = Pipeline([\n",
    "    ('cvec', CountVectorizer()),\n",
    "    ('logreg', LogisticRegression())    \n",
    "])\n",
    "\n",
    "# Grid Search Parameters\n",
    "pipe_cvec_params = {\n",
    "    'cvec__stop_words': ['english'],\n",
    "    'cvec__ngram_range': [(1,1), (1,2), (1,3)],\n",
    "    'cvec__max_features': [2000, 4000, 6000],\n",
    "    'cvec__min_df': [1, 2, 5, 10, 20],\n",
    "    'logreg__C': np.logspace(0, -2, 3)\n",
    "}\n",
    "\n",
    "# Instantiate GridSearch and fit model using data\n",
    "gs_cvec = GridSearchCV(pipe, param_grid=pipe_cvec_params, cv=5, verbose=1)\n",
    "gs_cvec.fit(X_train, y_train)"
   ]
  },
  {
   "cell_type": "code",
   "execution_count": 160,
   "id": "97c720e3",
   "metadata": {},
   "outputs": [
    {
     "data": {
      "text/html": [
       "<div>\n",
       "<style scoped>\n",
       "    .dataframe tbody tr th:only-of-type {\n",
       "        vertical-align: middle;\n",
       "    }\n",
       "\n",
       "    .dataframe tbody tr th {\n",
       "        vertical-align: top;\n",
       "    }\n",
       "\n",
       "    .dataframe thead th {\n",
       "        text-align: right;\n",
       "    }\n",
       "</style>\n",
       "<table border=\"1\" class=\"dataframe\">\n",
       "  <thead>\n",
       "    <tr style=\"text-align: right;\">\n",
       "      <th></th>\n",
       "      <th>mean_fit_time</th>\n",
       "      <th>std_fit_time</th>\n",
       "      <th>mean_score_time</th>\n",
       "      <th>std_score_time</th>\n",
       "      <th>param_cvec__max_features</th>\n",
       "      <th>param_cvec__min_df</th>\n",
       "      <th>param_cvec__ngram_range</th>\n",
       "      <th>param_cvec__stop_words</th>\n",
       "      <th>param_logreg__C</th>\n",
       "      <th>params</th>\n",
       "      <th>split0_test_score</th>\n",
       "      <th>split1_test_score</th>\n",
       "      <th>split2_test_score</th>\n",
       "      <th>split3_test_score</th>\n",
       "      <th>split4_test_score</th>\n",
       "      <th>mean_test_score</th>\n",
       "      <th>std_test_score</th>\n",
       "      <th>rank_test_score</th>\n",
       "    </tr>\n",
       "  </thead>\n",
       "  <tbody>\n",
       "    <tr>\n",
       "      <th>90</th>\n",
       "      <td>0.088545</td>\n",
       "      <td>0.004629</td>\n",
       "      <td>0.009593</td>\n",
       "      <td>8.001333e-04</td>\n",
       "      <td>6000</td>\n",
       "      <td>1</td>\n",
       "      <td>(1, 1)</td>\n",
       "      <td>english</td>\n",
       "      <td>1.0</td>\n",
       "      <td>{'cvec__max_features': 6000, 'cvec__min_df': 1...</td>\n",
       "      <td>0.855769</td>\n",
       "      <td>0.849359</td>\n",
       "      <td>0.892456</td>\n",
       "      <td>0.849117</td>\n",
       "      <td>0.844302</td>\n",
       "      <td>0.858201</td>\n",
       "      <td>0.017511</td>\n",
       "      <td>1</td>\n",
       "    </tr>\n",
       "    <tr>\n",
       "      <th>45</th>\n",
       "      <td>0.127122</td>\n",
       "      <td>0.034771</td>\n",
       "      <td>0.011993</td>\n",
       "      <td>2.606194e-03</td>\n",
       "      <td>4000</td>\n",
       "      <td>1</td>\n",
       "      <td>(1, 1)</td>\n",
       "      <td>english</td>\n",
       "      <td>1.0</td>\n",
       "      <td>{'cvec__max_features': 4000, 'cvec__min_df': 1...</td>\n",
       "      <td>0.854167</td>\n",
       "      <td>0.849359</td>\n",
       "      <td>0.892456</td>\n",
       "      <td>0.847512</td>\n",
       "      <td>0.845907</td>\n",
       "      <td>0.857880</td>\n",
       "      <td>0.017508</td>\n",
       "      <td>2</td>\n",
       "    </tr>\n",
       "    <tr>\n",
       "      <th>93</th>\n",
       "      <td>0.165635</td>\n",
       "      <td>0.015661</td>\n",
       "      <td>0.014697</td>\n",
       "      <td>2.014458e-03</td>\n",
       "      <td>6000</td>\n",
       "      <td>1</td>\n",
       "      <td>(1, 2)</td>\n",
       "      <td>english</td>\n",
       "      <td>1.0</td>\n",
       "      <td>{'cvec__max_features': 6000, 'cvec__min_df': 1...</td>\n",
       "      <td>0.854167</td>\n",
       "      <td>0.854167</td>\n",
       "      <td>0.884430</td>\n",
       "      <td>0.847512</td>\n",
       "      <td>0.849117</td>\n",
       "      <td>0.857879</td>\n",
       "      <td>0.013541</td>\n",
       "      <td>3</td>\n",
       "    </tr>\n",
       "    <tr>\n",
       "      <th>48</th>\n",
       "      <td>0.183887</td>\n",
       "      <td>0.044231</td>\n",
       "      <td>0.016789</td>\n",
       "      <td>1.468296e-03</td>\n",
       "      <td>4000</td>\n",
       "      <td>1</td>\n",
       "      <td>(1, 2)</td>\n",
       "      <td>english</td>\n",
       "      <td>1.0</td>\n",
       "      <td>{'cvec__max_features': 4000, 'cvec__min_df': 1...</td>\n",
       "      <td>0.850962</td>\n",
       "      <td>0.850962</td>\n",
       "      <td>0.886035</td>\n",
       "      <td>0.849117</td>\n",
       "      <td>0.850722</td>\n",
       "      <td>0.857560</td>\n",
       "      <td>0.014255</td>\n",
       "      <td>4</td>\n",
       "    </tr>\n",
       "    <tr>\n",
       "      <th>96</th>\n",
       "      <td>0.213370</td>\n",
       "      <td>0.019241</td>\n",
       "      <td>0.016989</td>\n",
       "      <td>6.843901e-07</td>\n",
       "      <td>6000</td>\n",
       "      <td>1</td>\n",
       "      <td>(1, 3)</td>\n",
       "      <td>english</td>\n",
       "      <td>1.0</td>\n",
       "      <td>{'cvec__max_features': 6000, 'cvec__min_df': 1...</td>\n",
       "      <td>0.849359</td>\n",
       "      <td>0.850962</td>\n",
       "      <td>0.889246</td>\n",
       "      <td>0.845907</td>\n",
       "      <td>0.849117</td>\n",
       "      <td>0.856918</td>\n",
       "      <td>0.016247</td>\n",
       "      <td>5</td>\n",
       "    </tr>\n",
       "    <tr>\n",
       "      <th>60</th>\n",
       "      <td>0.182790</td>\n",
       "      <td>0.016160</td>\n",
       "      <td>0.021986</td>\n",
       "      <td>1.151635e-02</td>\n",
       "      <td>4000</td>\n",
       "      <td>2</td>\n",
       "      <td>(1, 3)</td>\n",
       "      <td>english</td>\n",
       "      <td>1.0</td>\n",
       "      <td>{'cvec__max_features': 4000, 'cvec__min_df': 2...</td>\n",
       "      <td>0.846154</td>\n",
       "      <td>0.849359</td>\n",
       "      <td>0.886035</td>\n",
       "      <td>0.844302</td>\n",
       "      <td>0.850722</td>\n",
       "      <td>0.855314</td>\n",
       "      <td>0.015528</td>\n",
       "      <td>6</td>\n",
       "    </tr>\n",
       "    <tr>\n",
       "      <th>105</th>\n",
       "      <td>0.151743</td>\n",
       "      <td>0.008852</td>\n",
       "      <td>0.018587</td>\n",
       "      <td>4.074546e-03</td>\n",
       "      <td>6000</td>\n",
       "      <td>2</td>\n",
       "      <td>(1, 3)</td>\n",
       "      <td>english</td>\n",
       "      <td>1.0</td>\n",
       "      <td>{'cvec__max_features': 6000, 'cvec__min_df': 2...</td>\n",
       "      <td>0.846154</td>\n",
       "      <td>0.849359</td>\n",
       "      <td>0.886035</td>\n",
       "      <td>0.844302</td>\n",
       "      <td>0.850722</td>\n",
       "      <td>0.855314</td>\n",
       "      <td>0.015528</td>\n",
       "      <td>6</td>\n",
       "    </tr>\n",
       "    <tr>\n",
       "      <th>57</th>\n",
       "      <td>0.245785</td>\n",
       "      <td>0.099378</td>\n",
       "      <td>0.021688</td>\n",
       "      <td>6.046288e-03</td>\n",
       "      <td>4000</td>\n",
       "      <td>2</td>\n",
       "      <td>(1, 2)</td>\n",
       "      <td>english</td>\n",
       "      <td>1.0</td>\n",
       "      <td>{'cvec__max_features': 4000, 'cvec__min_df': 2...</td>\n",
       "      <td>0.847756</td>\n",
       "      <td>0.849359</td>\n",
       "      <td>0.884430</td>\n",
       "      <td>0.844302</td>\n",
       "      <td>0.850722</td>\n",
       "      <td>0.855314</td>\n",
       "      <td>0.014715</td>\n",
       "      <td>8</td>\n",
       "    </tr>\n",
       "    <tr>\n",
       "      <th>102</th>\n",
       "      <td>0.152200</td>\n",
       "      <td>0.030882</td>\n",
       "      <td>0.017389</td>\n",
       "      <td>4.961442e-03</td>\n",
       "      <td>6000</td>\n",
       "      <td>2</td>\n",
       "      <td>(1, 2)</td>\n",
       "      <td>english</td>\n",
       "      <td>1.0</td>\n",
       "      <td>{'cvec__max_features': 6000, 'cvec__min_df': 2...</td>\n",
       "      <td>0.847756</td>\n",
       "      <td>0.849359</td>\n",
       "      <td>0.884430</td>\n",
       "      <td>0.844302</td>\n",
       "      <td>0.850722</td>\n",
       "      <td>0.855314</td>\n",
       "      <td>0.014715</td>\n",
       "      <td>8</td>\n",
       "    </tr>\n",
       "    <tr>\n",
       "      <th>51</th>\n",
       "      <td>0.168895</td>\n",
       "      <td>0.003345</td>\n",
       "      <td>0.018189</td>\n",
       "      <td>1.938445e-03</td>\n",
       "      <td>4000</td>\n",
       "      <td>1</td>\n",
       "      <td>(1, 3)</td>\n",
       "      <td>english</td>\n",
       "      <td>1.0</td>\n",
       "      <td>{'cvec__max_features': 4000, 'cvec__min_df': 1...</td>\n",
       "      <td>0.847756</td>\n",
       "      <td>0.849359</td>\n",
       "      <td>0.882825</td>\n",
       "      <td>0.849117</td>\n",
       "      <td>0.845907</td>\n",
       "      <td>0.854993</td>\n",
       "      <td>0.013970</td>\n",
       "      <td>10</td>\n",
       "    </tr>\n",
       "  </tbody>\n",
       "</table>\n",
       "</div>"
      ],
      "text/plain": [
       "     mean_fit_time  std_fit_time  mean_score_time  std_score_time  \\\n",
       "90        0.088545      0.004629         0.009593    8.001333e-04   \n",
       "45        0.127122      0.034771         0.011993    2.606194e-03   \n",
       "93        0.165635      0.015661         0.014697    2.014458e-03   \n",
       "48        0.183887      0.044231         0.016789    1.468296e-03   \n",
       "96        0.213370      0.019241         0.016989    6.843901e-07   \n",
       "60        0.182790      0.016160         0.021986    1.151635e-02   \n",
       "105       0.151743      0.008852         0.018587    4.074546e-03   \n",
       "57        0.245785      0.099378         0.021688    6.046288e-03   \n",
       "102       0.152200      0.030882         0.017389    4.961442e-03   \n",
       "51        0.168895      0.003345         0.018189    1.938445e-03   \n",
       "\n",
       "    param_cvec__max_features param_cvec__min_df param_cvec__ngram_range  \\\n",
       "90                      6000                  1                  (1, 1)   \n",
       "45                      4000                  1                  (1, 1)   \n",
       "93                      6000                  1                  (1, 2)   \n",
       "48                      4000                  1                  (1, 2)   \n",
       "96                      6000                  1                  (1, 3)   \n",
       "60                      4000                  2                  (1, 3)   \n",
       "105                     6000                  2                  (1, 3)   \n",
       "57                      4000                  2                  (1, 2)   \n",
       "102                     6000                  2                  (1, 2)   \n",
       "51                      4000                  1                  (1, 3)   \n",
       "\n",
       "    param_cvec__stop_words param_logreg__C  \\\n",
       "90                 english             1.0   \n",
       "45                 english             1.0   \n",
       "93                 english             1.0   \n",
       "48                 english             1.0   \n",
       "96                 english             1.0   \n",
       "60                 english             1.0   \n",
       "105                english             1.0   \n",
       "57                 english             1.0   \n",
       "102                english             1.0   \n",
       "51                 english             1.0   \n",
       "\n",
       "                                                params  split0_test_score  \\\n",
       "90   {'cvec__max_features': 6000, 'cvec__min_df': 1...           0.855769   \n",
       "45   {'cvec__max_features': 4000, 'cvec__min_df': 1...           0.854167   \n",
       "93   {'cvec__max_features': 6000, 'cvec__min_df': 1...           0.854167   \n",
       "48   {'cvec__max_features': 4000, 'cvec__min_df': 1...           0.850962   \n",
       "96   {'cvec__max_features': 6000, 'cvec__min_df': 1...           0.849359   \n",
       "60   {'cvec__max_features': 4000, 'cvec__min_df': 2...           0.846154   \n",
       "105  {'cvec__max_features': 6000, 'cvec__min_df': 2...           0.846154   \n",
       "57   {'cvec__max_features': 4000, 'cvec__min_df': 2...           0.847756   \n",
       "102  {'cvec__max_features': 6000, 'cvec__min_df': 2...           0.847756   \n",
       "51   {'cvec__max_features': 4000, 'cvec__min_df': 1...           0.847756   \n",
       "\n",
       "     split1_test_score  split2_test_score  split3_test_score  \\\n",
       "90            0.849359           0.892456           0.849117   \n",
       "45            0.849359           0.892456           0.847512   \n",
       "93            0.854167           0.884430           0.847512   \n",
       "48            0.850962           0.886035           0.849117   \n",
       "96            0.850962           0.889246           0.845907   \n",
       "60            0.849359           0.886035           0.844302   \n",
       "105           0.849359           0.886035           0.844302   \n",
       "57            0.849359           0.884430           0.844302   \n",
       "102           0.849359           0.884430           0.844302   \n",
       "51            0.849359           0.882825           0.849117   \n",
       "\n",
       "     split4_test_score  mean_test_score  std_test_score  rank_test_score  \n",
       "90            0.844302         0.858201        0.017511                1  \n",
       "45            0.845907         0.857880        0.017508                2  \n",
       "93            0.849117         0.857879        0.013541                3  \n",
       "48            0.850722         0.857560        0.014255                4  \n",
       "96            0.849117         0.856918        0.016247                5  \n",
       "60            0.850722         0.855314        0.015528                6  \n",
       "105           0.850722         0.855314        0.015528                6  \n",
       "57            0.850722         0.855314        0.014715                8  \n",
       "102           0.850722         0.855314        0.014715                8  \n",
       "51            0.845907         0.854993        0.013970               10  "
      ]
     },
     "execution_count": 160,
     "metadata": {},
     "output_type": "execute_result"
    }
   ],
   "source": [
    "# Looking at the top 10 score to understand which are the common parameters\n",
    "pd.DataFrame(gs_cvec.cv_results_).sort_values(by='rank_test_score').head(10)"
   ]
  },
  {
   "cell_type": "code",
   "execution_count": 161,
   "id": "d8e43bf9",
   "metadata": {},
   "outputs": [
    {
     "name": "stdout",
     "output_type": "stream",
     "text": [
      "Train Accuracy: 0.9797882579403272\n",
      "TrainCV Accuracy: 0.8582006008972302\n",
      "Test Accuracy: 0.8594802694898941\n",
      "Sensitivity: 0.9013539651837524\n",
      "Specificity: 0.8180076628352491\n",
      "Best Parameters: {'cvec__max_features': 6000, 'cvec__min_df': 1, 'cvec__ngram_range': (1, 1), 'cvec__stop_words': 'english', 'logreg__C': 1.0}\n",
      "Best Estimator: Pipeline(steps=[('cvec',\n",
      "                 CountVectorizer(max_features=6000, stop_words='english')),\n",
      "                ('logreg', LogisticRegression())])\n"
     ]
    },
    {
     "data": {
      "image/png": "[encoded data removed]",
      "text/plain": [
       "<Figure size 432x288 with 2 Axes>"
      ]
     },
     "metadata": {
      "needs_background": "light"
     },
     "output_type": "display_data"
    }
   ],
   "source": [
    "result = pd.concat([result, model_metrics(gs_cvec, X_train, y_train, X_test, y_test)])"
   ]
  },
  {
   "cell_type": "markdown",
   "id": "ddd70783",
   "metadata": {},
   "source": [
    "#### CountVectorizer + Navie Bayes"
   ]
  },
  {
   "cell_type": "code",
   "execution_count": 162,
   "id": "1bb97b3c",
   "metadata": {},
   "outputs": [
    {
     "data": {
      "text/plain": [
       "GridSearchCV(cv=5,\n",
       "             estimator=Pipeline(steps=[('cvec', CountVectorizer()),\n",
       "                                       ('nb', MultinomialNB())]),\n",
       "             param_grid={'cvec__max_features': [2000, 4000, 6000],\n",
       "                         'cvec__min_df': [1, 2, 5, 10, 20],\n",
       "                         'cvec__ngram_range': [(1, 1), (1, 2), (1, 3)],\n",
       "                         'cvec__stop_words': ['english']})"
      ]
     },
     "execution_count": 162,
     "metadata": {},
     "output_type": "execute_result"
    }
   ],
   "source": [
    "# Instantiate Pipeline with CountVectorizer and Navie Bayes\n",
    "pipe = Pipeline([\n",
    "    ('cvec', CountVectorizer()),\n",
    "    ('nb', MultinomialNB())    \n",
    "])\n",
    "\n",
    "# Grid Search Parameters\n",
    "pipe_cvec_params = {\n",
    "    'cvec__stop_words': ['english'],\n",
    "    'cvec__ngram_range': [(1,1), (1,2), (1,3)],\n",
    "    'cvec__max_features': [2000, 4000, 6000],\n",
    "    'cvec__min_df': [1, 2, 5, 10, 20],\n",
    "}\n",
    "\n",
    "# Instantiate GridSearch and fit model using data\n",
    "gs_cvec = GridSearchCV(pipe, param_grid=pipe_cvec_params, cv=5)\n",
    "gs_cvec.fit(X_train, y_train)"
   ]
  },
  {
   "cell_type": "code",
   "execution_count": 163,
   "id": "215f0ba3",
   "metadata": {},
   "outputs": [
    {
     "data": {
      "text/html": [
       "<div>\n",
       "<style scoped>\n",
       "    .dataframe tbody tr th:only-of-type {\n",
       "        vertical-align: middle;\n",
       "    }\n",
       "\n",
       "    .dataframe tbody tr th {\n",
       "        vertical-align: top;\n",
       "    }\n",
       "\n",
       "    .dataframe thead th {\n",
       "        text-align: right;\n",
       "    }\n",
       "</style>\n",
       "<table border=\"1\" class=\"dataframe\">\n",
       "  <thead>\n",
       "    <tr style=\"text-align: right;\">\n",
       "      <th></th>\n",
       "      <th>mean_fit_time</th>\n",
       "      <th>std_fit_time</th>\n",
       "      <th>mean_score_time</th>\n",
       "      <th>std_score_time</th>\n",
       "      <th>param_cvec__max_features</th>\n",
       "      <th>param_cvec__min_df</th>\n",
       "      <th>param_cvec__ngram_range</th>\n",
       "      <th>param_cvec__stop_words</th>\n",
       "      <th>params</th>\n",
       "      <th>split0_test_score</th>\n",
       "      <th>split1_test_score</th>\n",
       "      <th>split2_test_score</th>\n",
       "      <th>split3_test_score</th>\n",
       "      <th>split4_test_score</th>\n",
       "      <th>mean_test_score</th>\n",
       "      <th>std_test_score</th>\n",
       "      <th>rank_test_score</th>\n",
       "    </tr>\n",
       "  </thead>\n",
       "  <tbody>\n",
       "    <tr>\n",
       "      <th>30</th>\n",
       "      <td>0.047171</td>\n",
       "      <td>0.002133</td>\n",
       "      <td>0.009394</td>\n",
       "      <td>0.001020</td>\n",
       "      <td>6000</td>\n",
       "      <td>1</td>\n",
       "      <td>(1, 1)</td>\n",
       "      <td>english</td>\n",
       "      <td>{'cvec__max_features': 6000, 'cvec__min_df': 1...</td>\n",
       "      <td>0.860577</td>\n",
       "      <td>0.866987</td>\n",
       "      <td>0.879615</td>\n",
       "      <td>0.844302</td>\n",
       "      <td>0.845907</td>\n",
       "      <td>0.859478</td>\n",
       "      <td>0.013248</td>\n",
       "      <td>1</td>\n",
       "    </tr>\n",
       "    <tr>\n",
       "      <th>15</th>\n",
       "      <td>0.048781</td>\n",
       "      <td>0.003313</td>\n",
       "      <td>0.009994</td>\n",
       "      <td>0.001672</td>\n",
       "      <td>4000</td>\n",
       "      <td>1</td>\n",
       "      <td>(1, 1)</td>\n",
       "      <td>english</td>\n",
       "      <td>{'cvec__max_features': 4000, 'cvec__min_df': 1...</td>\n",
       "      <td>0.858974</td>\n",
       "      <td>0.866987</td>\n",
       "      <td>0.876404</td>\n",
       "      <td>0.845907</td>\n",
       "      <td>0.845907</td>\n",
       "      <td>0.858836</td>\n",
       "      <td>0.011912</td>\n",
       "      <td>2</td>\n",
       "    </tr>\n",
       "    <tr>\n",
       "      <th>31</th>\n",
       "      <td>0.089147</td>\n",
       "      <td>0.004488</td>\n",
       "      <td>0.016989</td>\n",
       "      <td>0.002096</td>\n",
       "      <td>6000</td>\n",
       "      <td>1</td>\n",
       "      <td>(1, 2)</td>\n",
       "      <td>english</td>\n",
       "      <td>{'cvec__max_features': 6000, 'cvec__min_df': 1...</td>\n",
       "      <td>0.854167</td>\n",
       "      <td>0.855769</td>\n",
       "      <td>0.876404</td>\n",
       "      <td>0.826645</td>\n",
       "      <td>0.837881</td>\n",
       "      <td>0.850173</td>\n",
       "      <td>0.016971</td>\n",
       "      <td>3</td>\n",
       "    </tr>\n",
       "    <tr>\n",
       "      <th>32</th>\n",
       "      <td>0.117326</td>\n",
       "      <td>0.011352</td>\n",
       "      <td>0.019787</td>\n",
       "      <td>0.001600</td>\n",
       "      <td>6000</td>\n",
       "      <td>1</td>\n",
       "      <td>(1, 3)</td>\n",
       "      <td>english</td>\n",
       "      <td>{'cvec__max_features': 6000, 'cvec__min_df': 1...</td>\n",
       "      <td>0.852564</td>\n",
       "      <td>0.852564</td>\n",
       "      <td>0.874799</td>\n",
       "      <td>0.828250</td>\n",
       "      <td>0.831461</td>\n",
       "      <td>0.847928</td>\n",
       "      <td>0.016873</td>\n",
       "      <td>4</td>\n",
       "    </tr>\n",
       "    <tr>\n",
       "      <th>16</th>\n",
       "      <td>0.085347</td>\n",
       "      <td>0.002331</td>\n",
       "      <td>0.014391</td>\n",
       "      <td>0.000799</td>\n",
       "      <td>4000</td>\n",
       "      <td>1</td>\n",
       "      <td>(1, 2)</td>\n",
       "      <td>english</td>\n",
       "      <td>{'cvec__max_features': 4000, 'cvec__min_df': 1...</td>\n",
       "      <td>0.852564</td>\n",
       "      <td>0.852564</td>\n",
       "      <td>0.871589</td>\n",
       "      <td>0.826645</td>\n",
       "      <td>0.833066</td>\n",
       "      <td>0.847286</td>\n",
       "      <td>0.015966</td>\n",
       "      <td>5</td>\n",
       "    </tr>\n",
       "    <tr>\n",
       "      <th>17</th>\n",
       "      <td>0.115967</td>\n",
       "      <td>0.006873</td>\n",
       "      <td>0.019387</td>\n",
       "      <td>0.001356</td>\n",
       "      <td>4000</td>\n",
       "      <td>1</td>\n",
       "      <td>(1, 3)</td>\n",
       "      <td>english</td>\n",
       "      <td>{'cvec__max_features': 4000, 'cvec__min_df': 1...</td>\n",
       "      <td>0.849359</td>\n",
       "      <td>0.849359</td>\n",
       "      <td>0.873194</td>\n",
       "      <td>0.821830</td>\n",
       "      <td>0.839486</td>\n",
       "      <td>0.846646</td>\n",
       "      <td>0.016653</td>\n",
       "      <td>6</td>\n",
       "    </tr>\n",
       "    <tr>\n",
       "      <th>0</th>\n",
       "      <td>0.056764</td>\n",
       "      <td>0.011950</td>\n",
       "      <td>0.010794</td>\n",
       "      <td>0.001720</td>\n",
       "      <td>2000</td>\n",
       "      <td>1</td>\n",
       "      <td>(1, 1)</td>\n",
       "      <td>english</td>\n",
       "      <td>{'cvec__max_features': 2000, 'cvec__min_df': 1...</td>\n",
       "      <td>0.847756</td>\n",
       "      <td>0.854167</td>\n",
       "      <td>0.869984</td>\n",
       "      <td>0.821830</td>\n",
       "      <td>0.836276</td>\n",
       "      <td>0.846003</td>\n",
       "      <td>0.016271</td>\n",
       "      <td>7</td>\n",
       "    </tr>\n",
       "    <tr>\n",
       "      <th>19</th>\n",
       "      <td>0.085946</td>\n",
       "      <td>0.006837</td>\n",
       "      <td>0.015591</td>\n",
       "      <td>0.001623</td>\n",
       "      <td>4000</td>\n",
       "      <td>2</td>\n",
       "      <td>(1, 2)</td>\n",
       "      <td>english</td>\n",
       "      <td>{'cvec__max_features': 4000, 'cvec__min_df': 2...</td>\n",
       "      <td>0.839744</td>\n",
       "      <td>0.847756</td>\n",
       "      <td>0.871589</td>\n",
       "      <td>0.821830</td>\n",
       "      <td>0.837881</td>\n",
       "      <td>0.843760</td>\n",
       "      <td>0.016261</td>\n",
       "      <td>8</td>\n",
       "    </tr>\n",
       "    <tr>\n",
       "      <th>20</th>\n",
       "      <td>0.115131</td>\n",
       "      <td>0.008834</td>\n",
       "      <td>0.016691</td>\n",
       "      <td>0.000874</td>\n",
       "      <td>4000</td>\n",
       "      <td>2</td>\n",
       "      <td>(1, 3)</td>\n",
       "      <td>english</td>\n",
       "      <td>{'cvec__max_features': 4000, 'cvec__min_df': 2...</td>\n",
       "      <td>0.841346</td>\n",
       "      <td>0.846154</td>\n",
       "      <td>0.871589</td>\n",
       "      <td>0.821830</td>\n",
       "      <td>0.837881</td>\n",
       "      <td>0.843760</td>\n",
       "      <td>0.016134</td>\n",
       "      <td>8</td>\n",
       "    </tr>\n",
       "    <tr>\n",
       "      <th>34</th>\n",
       "      <td>0.090144</td>\n",
       "      <td>0.005415</td>\n",
       "      <td>0.017389</td>\n",
       "      <td>0.005311</td>\n",
       "      <td>6000</td>\n",
       "      <td>2</td>\n",
       "      <td>(1, 2)</td>\n",
       "      <td>english</td>\n",
       "      <td>{'cvec__max_features': 6000, 'cvec__min_df': 2...</td>\n",
       "      <td>0.839744</td>\n",
       "      <td>0.847756</td>\n",
       "      <td>0.871589</td>\n",
       "      <td>0.821830</td>\n",
       "      <td>0.837881</td>\n",
       "      <td>0.843760</td>\n",
       "      <td>0.016261</td>\n",
       "      <td>8</td>\n",
       "    </tr>\n",
       "  </tbody>\n",
       "</table>\n",
       "</div>"
      ],
      "text/plain": [
       "    mean_fit_time  std_fit_time  mean_score_time  std_score_time  \\\n",
       "30       0.047171      0.002133         0.009394        0.001020   \n",
       "15       0.048781      0.003313         0.009994        0.001672   \n",
       "31       0.089147      0.004488         0.016989        0.002096   \n",
       "32       0.117326      0.011352         0.019787        0.001600   \n",
       "16       0.085347      0.002331         0.014391        0.000799   \n",
       "17       0.115967      0.006873         0.019387        0.001356   \n",
       "0        0.056764      0.011950         0.010794        0.001720   \n",
       "19       0.085946      0.006837         0.015591        0.001623   \n",
       "20       0.115131      0.008834         0.016691        0.000874   \n",
       "34       0.090144      0.005415         0.017389        0.005311   \n",
       "\n",
       "   param_cvec__max_features param_cvec__min_df param_cvec__ngram_range  \\\n",
       "30                     6000                  1                  (1, 1)   \n",
       "15                     4000                  1                  (1, 1)   \n",
       "31                     6000                  1                  (1, 2)   \n",
       "32                     6000                  1                  (1, 3)   \n",
       "16                     4000                  1                  (1, 2)   \n",
       "17                     4000                  1                  (1, 3)   \n",
       "0                      2000                  1                  (1, 1)   \n",
       "19                     4000                  2                  (1, 2)   \n",
       "20                     4000                  2                  (1, 3)   \n",
       "34                     6000                  2                  (1, 2)   \n",
       "\n",
       "   param_cvec__stop_words                                             params  \\\n",
       "30                english  {'cvec__max_features': 6000, 'cvec__min_df': 1...   \n",
       "15                english  {'cvec__max_features': 4000, 'cvec__min_df': 1...   \n",
       "31                english  {'cvec__max_features': 6000, 'cvec__min_df': 1...   \n",
       "32                english  {'cvec__max_features': 6000, 'cvec__min_df': 1...   \n",
       "16                english  {'cvec__max_features': 4000, 'cvec__min_df': 1...   \n",
       "17                english  {'cvec__max_features': 4000, 'cvec__min_df': 1...   \n",
       "0                 english  {'cvec__max_features': 2000, 'cvec__min_df': 1...   \n",
       "19                english  {'cvec__max_features': 4000, 'cvec__min_df': 2...   \n",
       "20                english  {'cvec__max_features': 4000, 'cvec__min_df': 2...   \n",
       "34                english  {'cvec__max_features': 6000, 'cvec__min_df': 2...   \n",
       "\n",
       "    split0_test_score  split1_test_score  split2_test_score  \\\n",
       "30           0.860577           0.866987           0.879615   \n",
       "15           0.858974           0.866987           0.876404   \n",
       "31           0.854167           0.855769           0.876404   \n",
       "32           0.852564           0.852564           0.874799   \n",
       "16           0.852564           0.852564           0.871589   \n",
       "17           0.849359           0.849359           0.873194   \n",
       "0            0.847756           0.854167           0.869984   \n",
       "19           0.839744           0.847756           0.871589   \n",
       "20           0.841346           0.846154           0.871589   \n",
       "34           0.839744           0.847756           0.871589   \n",
       "\n",
       "    split3_test_score  split4_test_score  mean_test_score  std_test_score  \\\n",
       "30           0.844302           0.845907         0.859478        0.013248   \n",
       "15           0.845907           0.845907         0.858836        0.011912   \n",
       "31           0.826645           0.837881         0.850173        0.016971   \n",
       "32           0.828250           0.831461         0.847928        0.016873   \n",
       "16           0.826645           0.833066         0.847286        0.015966   \n",
       "17           0.821830           0.839486         0.846646        0.016653   \n",
       "0            0.821830           0.836276         0.846003        0.016271   \n",
       "19           0.821830           0.837881         0.843760        0.016261   \n",
       "20           0.821830           0.837881         0.843760        0.016134   \n",
       "34           0.821830           0.837881         0.843760        0.016261   \n",
       "\n",
       "    rank_test_score  \n",
       "30                1  \n",
       "15                2  \n",
       "31                3  \n",
       "32                4  \n",
       "16                5  \n",
       "17                6  \n",
       "0                 7  \n",
       "19                8  \n",
       "20                8  \n",
       "34                8  "
      ]
     },
     "execution_count": 163,
     "metadata": {},
     "output_type": "execute_result"
    }
   ],
   "source": [
    "# Looking at the top 10 score to understand which are the common parameters\n",
    "pd.DataFrame(gs_cvec.cv_results_).sort_values(by='rank_test_score').head(10)"
   ]
  },
  {
   "cell_type": "code",
   "execution_count": 164,
   "id": "0ac885db",
   "metadata": {},
   "outputs": [
    {
     "name": "stdout",
     "output_type": "stream",
     "text": [
      "Train Accuracy: 0.9505935194096888\n",
      "TrainCV Accuracy: 0.8594775075112155\n",
      "Test Accuracy: 0.8594802694898941\n",
      "Sensitivity: 0.8317214700193424\n",
      "Specificity: 0.8869731800766284\n",
      "Best Parameters: {'cvec__max_features': 6000, 'cvec__min_df': 1, 'cvec__ngram_range': (1, 1), 'cvec__stop_words': 'english'}\n",
      "Best Estimator: Pipeline(steps=[('cvec',\n",
      "                 CountVectorizer(max_features=6000, stop_words='english')),\n",
      "                ('nb', MultinomialNB())])\n"
     ]
    },
    {
     "data": {
      "image/png": "[encoded data removed]",
      "text/plain": [
       "<Figure size 432x288 with 2 Axes>"
      ]
     },
     "metadata": {
      "needs_background": "light"
     },
     "output_type": "display_data"
    }
   ],
   "source": [
    "result = pd.concat([result, model_metrics(gs_cvec, X_train, y_train, X_test, y_test)])"
   ]
  },
  {
   "cell_type": "code",
   "execution_count": 165,
   "id": "7cace718",
   "metadata": {},
   "outputs": [
    {
     "data": {
      "text/html": [
       "<div>\n",
       "<style scoped>\n",
       "    .dataframe tbody tr th:only-of-type {\n",
       "        vertical-align: middle;\n",
       "    }\n",
       "\n",
       "    .dataframe tbody tr th {\n",
       "        vertical-align: top;\n",
       "    }\n",
       "\n",
       "    .dataframe thead th {\n",
       "        text-align: right;\n",
       "    }\n",
       "</style>\n",
       "<table border=\"1\" class=\"dataframe\">\n",
       "  <thead>\n",
       "    <tr style=\"text-align: right;\">\n",
       "      <th></th>\n",
       "      <th>train_accuracy</th>\n",
       "      <th>trainCV_accuracy</th>\n",
       "      <th>test_accuracy</th>\n",
       "      <th>tn</th>\n",
       "      <th>fp</th>\n",
       "      <th>fn</th>\n",
       "      <th>tp</th>\n",
       "      <th>sensitivity</th>\n",
       "      <th>specificity</th>\n",
       "      <th>best_params</th>\n",
       "      <th>best_estimator</th>\n",
       "    </tr>\n",
       "  </thead>\n",
       "  <tbody>\n",
       "    <tr>\n",
       "      <th>0</th>\n",
       "      <td>0.970164</td>\n",
       "      <td>0.864937</td>\n",
       "      <td>0.872955</td>\n",
       "      <td>451</td>\n",
       "      <td>71</td>\n",
       "      <td>61</td>\n",
       "      <td>456</td>\n",
       "      <td>0.882012</td>\n",
       "      <td>0.863985</td>\n",
       "      <td>{'logreg__C': 1.0, 'tvec__max_features': 4000,...</td>\n",
       "      <td>(TfidfVectorizer(max_features=4000, stop_words...</td>\n",
       "    </tr>\n",
       "    <tr>\n",
       "      <th>0</th>\n",
       "      <td>0.956047</td>\n",
       "      <td>0.856270</td>\n",
       "      <td>0.854668</td>\n",
       "      <td>461</td>\n",
       "      <td>61</td>\n",
       "      <td>90</td>\n",
       "      <td>427</td>\n",
       "      <td>0.825919</td>\n",
       "      <td>0.883142</td>\n",
       "      <td>{'tvec__max_features': 6000, 'tvec__min_df': 1...</td>\n",
       "      <td>(TfidfVectorizer(max_features=6000, stop_words...</td>\n",
       "    </tr>\n",
       "    <tr>\n",
       "      <th>0</th>\n",
       "      <td>0.979788</td>\n",
       "      <td>0.858201</td>\n",
       "      <td>0.859480</td>\n",
       "      <td>427</td>\n",
       "      <td>95</td>\n",
       "      <td>51</td>\n",
       "      <td>466</td>\n",
       "      <td>0.901354</td>\n",
       "      <td>0.818008</td>\n",
       "      <td>{'cvec__max_features': 6000, 'cvec__min_df': 1...</td>\n",
       "      <td>(CountVectorizer(max_features=6000, stop_words...</td>\n",
       "    </tr>\n",
       "    <tr>\n",
       "      <th>0</th>\n",
       "      <td>0.950594</td>\n",
       "      <td>0.859478</td>\n",
       "      <td>0.859480</td>\n",
       "      <td>463</td>\n",
       "      <td>59</td>\n",
       "      <td>87</td>\n",
       "      <td>430</td>\n",
       "      <td>0.831721</td>\n",
       "      <td>0.886973</td>\n",
       "      <td>{'cvec__max_features': 6000, 'cvec__min_df': 1...</td>\n",
       "      <td>(CountVectorizer(max_features=6000, stop_words...</td>\n",
       "    </tr>\n",
       "  </tbody>\n",
       "</table>\n",
       "</div>"
      ],
      "text/plain": [
       "   train_accuracy  trainCV_accuracy  test_accuracy   tn  fp  fn   tp  \\\n",
       "0        0.970164          0.864937       0.872955  451  71  61  456   \n",
       "0        0.956047          0.856270       0.854668  461  61  90  427   \n",
       "0        0.979788          0.858201       0.859480  427  95  51  466   \n",
       "0        0.950594          0.859478       0.859480  463  59  87  430   \n",
       "\n",
       "   sensitivity  specificity  \\\n",
       "0     0.882012     0.863985   \n",
       "0     0.825919     0.883142   \n",
       "0     0.901354     0.818008   \n",
       "0     0.831721     0.886973   \n",
       "\n",
       "                                         best_params  \\\n",
       "0  {'logreg__C': 1.0, 'tvec__max_features': 4000,...   \n",
       "0  {'tvec__max_features': 6000, 'tvec__min_df': 1...   \n",
       "0  {'cvec__max_features': 6000, 'cvec__min_df': 1...   \n",
       "0  {'cvec__max_features': 6000, 'cvec__min_df': 1...   \n",
       "\n",
       "                                      best_estimator  \n",
       "0  (TfidfVectorizer(max_features=4000, stop_words...  \n",
       "0  (TfidfVectorizer(max_features=6000, stop_words...  \n",
       "0  (CountVectorizer(max_features=6000, stop_words...  \n",
       "0  (CountVectorizer(max_features=6000, stop_words...  "
      ]
     },
     "execution_count": 165,
     "metadata": {},
     "output_type": "execute_result"
    }
   ],
   "source": [
    "result"
   ]
  },
  {
   "cell_type": "markdown",
   "id": "51aa5a6a",
   "metadata": {},
   "source": [
    "### Results\n",
    "The best combination is Tfidf vectorizer with logisitic regression with slightly better trainCV and test accuracy.\n",
    "\n",
    "|Estimator|Vectorizers|Train Accuracy|TrainCV Accuracy|Test Accuracy|Sensitivity|Specificity|\n",
    "|:---:|:---:|:---:|:---:|:---:|:---:|:---:|\n",
    "|Logisitic|Tfidf Vectorizer|0.970164|0.864937|0.872955|0.882012|0.863985|\n",
    "|Naive Bayes|Tfidf Vectorizer|0.956047|0.856270|0.854668|0.825919|0.883142|\n",
    "|Logisitic|Count Vectorizer|0.979788|0.858201|0.859480|0.901354|0.818008|\n",
    "|Naive Bayes|Count Vectorizer|0.950594|0.859478|0.859480|0.831721|0.886973|"
   ]
  },
  {
   "cell_type": "markdown",
   "id": "55866df3",
   "metadata": {},
   "source": [
    "### Does more features help?\n",
    "Trying to improve the accuracy by using more features."
   ]
  },
  {
   "cell_type": "code",
   "execution_count": null,
   "id": "7019f21d",
   "metadata": {},
   "outputs": [],
   "source": [
    "# subreddit is the target, subreddit_id is the target\n",
    "# Initial usable features are author, authur_fullname, 'full_link', 'domain', 'id', link_flair_richtext, link_flair_text, \n",
    "#'num_comments', 'permalink', 'selftext', 'title', 'url', whitelist_status', 'wls', \n",
    "# Dunno: 'created_utc'"
   ]
  },
  {
   "cell_type": "code",
   "execution_count": 101,
   "id": "04408587",
   "metadata": {},
   "outputs": [],
   "source": [
    "X = data['title'] + \" \" + data['author_fullname'] + \" \" + data['selftext'] + data['whitelist_status'] + \" \" + data['link_flair_text']\n",
    "y = data['subreddit']\n",
    "X_train, X_test, y_train, y_test = train_test_split(X, y, train_size = 0.75, stratify=y, random_state = 42)"
   ]
  },
  {
   "cell_type": "code",
   "execution_count": 102,
   "id": "61e7eb40",
   "metadata": {},
   "outputs": [
    {
     "name": "stdout",
     "output_type": "stream",
     "text": [
      "Fitting 5 folds for each of 135 candidates, totalling 675 fits\n"
     ]
    },
    {
     "data": {
      "text/plain": [
       "GridSearchCV(cv=5,\n",
       "             estimator=Pipeline(steps=[('tvec', TfidfVectorizer()),\n",
       "                                       ('logreg', LogisticRegression())]),\n",
       "             param_grid={'logreg__C': array([1.  , 0.1 , 0.01]),\n",
       "                         'tvec__max_features': [2000, 4000, 6000],\n",
       "                         'tvec__min_df': [1, 2, 5, 10, 20],\n",
       "                         'tvec__ngram_range': [(1, 1), (1, 2), (1, 3)],\n",
       "                         'tvec__stop_words': ['english']},\n",
       "             verbose=1)"
      ]
     },
     "execution_count": 102,
     "metadata": {},
     "output_type": "execute_result"
    }
   ],
   "source": [
    "# Instantiate Pipeline with TfidfVectorizer and Logisitic Regression\n",
    "pipe = Pipeline([\n",
    "    ('tvec', TfidfVectorizer()),\n",
    "    ('logreg', LogisticRegression())    \n",
    "])\n",
    "\n",
    "# Grid Search Parameters\n",
    "pipe_tvec_params = {\n",
    "    'tvec__stop_words': ['english'],\n",
    "    'tvec__ngram_range': [(1,1), (1,2), (1,3)],\n",
    "    'tvec__max_features': [2000, 4000, 6000],\n",
    "    'tvec__min_df': [1, 2, 5, 10, 20],\n",
    "    'logreg__C': np.logspace(0, -2, 3)\n",
    "}\n",
    "\n",
    "# Instantiate GridSearch and fit model using data\n",
    "gs_tvec = GridSearchCV(pipe, param_grid=pipe_tvec_params, cv=5, verbose=1)\n",
    "gs_tvec.fit(X_train, y_train)"
   ]
  },
  {
   "cell_type": "code",
   "execution_count": 103,
   "id": "ac72801d",
   "metadata": {},
   "outputs": [
    {
     "name": "stdout",
     "output_type": "stream",
     "text": [
      "Train Accuracy: 0.9983958934873276\n",
      "TrainCV Accuracy: 0.9948681936041487\n",
      "Test Accuracy: 0.9932627526467758\n",
      "Sensitivity: 0.988394584139265\n",
      "Specificity: 0.9980842911877394\n",
      "Best Parameters: {'logreg__C': 1.0, 'tvec__max_features': 2000, 'tvec__min_df': 20, 'tvec__ngram_range': (1, 1), 'tvec__stop_words': 'english'}\n",
      "Best Estimator: Pipeline(steps=[('tvec',\n",
      "                 TfidfVectorizer(max_features=2000, min_df=20,\n",
      "                                 stop_words='english')),\n",
      "                ('logreg', LogisticRegression())])\n"
     ]
    },
    {
     "data": {
      "text/html": [
       "<div>\n",
       "<style scoped>\n",
       "    .dataframe tbody tr th:only-of-type {\n",
       "        vertical-align: middle;\n",
       "    }\n",
       "\n",
       "    .dataframe tbody tr th {\n",
       "        vertical-align: top;\n",
       "    }\n",
       "\n",
       "    .dataframe thead th {\n",
       "        text-align: right;\n",
       "    }\n",
       "</style>\n",
       "<table border=\"1\" class=\"dataframe\">\n",
       "  <thead>\n",
       "    <tr style=\"text-align: right;\">\n",
       "      <th></th>\n",
       "      <th>train_accuracy</th>\n",
       "      <th>trainCV_accuracy</th>\n",
       "      <th>test_accuracy</th>\n",
       "      <th>tn</th>\n",
       "      <th>fp</th>\n",
       "      <th>fn</th>\n",
       "      <th>tp</th>\n",
       "      <th>sensitivity</th>\n",
       "      <th>specificity</th>\n",
       "      <th>best_params</th>\n",
       "      <th>best_estimator</th>\n",
       "    </tr>\n",
       "  </thead>\n",
       "  <tbody>\n",
       "    <tr>\n",
       "      <th>0</th>\n",
       "      <td>0.998396</td>\n",
       "      <td>0.994868</td>\n",
       "      <td>0.993263</td>\n",
       "      <td>521</td>\n",
       "      <td>1</td>\n",
       "      <td>6</td>\n",
       "      <td>511</td>\n",
       "      <td>0.988395</td>\n",
       "      <td>0.998084</td>\n",
       "      <td>{'logreg__C': 1.0, 'tvec__max_features': 2000,...</td>\n",
       "      <td>(TfidfVectorizer(max_features=2000, min_df=20,...</td>\n",
       "    </tr>\n",
       "  </tbody>\n",
       "</table>\n",
       "</div>"
      ],
      "text/plain": [
       "   train_accuracy  trainCV_accuracy  test_accuracy   tn  fp  fn   tp  \\\n",
       "0        0.998396          0.994868       0.993263  521   1   6  511   \n",
       "\n",
       "   sensitivity  specificity  \\\n",
       "0     0.988395     0.998084   \n",
       "\n",
       "                                         best_params  \\\n",
       "0  {'logreg__C': 1.0, 'tvec__max_features': 2000,...   \n",
       "\n",
       "                                      best_estimator  \n",
       "0  (TfidfVectorizer(max_features=2000, min_df=20,...  "
      ]
     },
     "execution_count": 103,
     "metadata": {},
     "output_type": "execute_result"
    },
    {
     "data": {
      "image/png": "[encoded data removed]",
      "text/plain": [
       "<Figure size 432x288 with 2 Axes>"
      ]
     },
     "metadata": {
      "needs_background": "light"
     },
     "output_type": "display_data"
    }
   ],
   "source": [
    "model_metrics(gs_tvec, X_train, y_train, X_test, y_test)"
   ]
  },
  {
   "cell_type": "markdown",
   "id": "0beb4c75",
   "metadata": {},
   "source": [
    "### Does more features help?\n",
    "Trying to improve the accuracy by using more features."
   ]
  },
  {
   "cell_type": "code",
   "execution_count": 48,
   "id": "657ce98c",
   "metadata": {},
   "outputs": [],
   "source": [
    "# Train-Test Split X and y dataset\n",
    "X = data[['title', 'author_fullname', 'selftext', 'whitelist_status', 'link_flair_text']]\n",
    "y = data['subreddit']\n",
    "X_train, X_test, y_train, y_test = train_test_split(X, y, train_size = 0.75, stratify=y, random_state = 42)\n",
    "\n",
    "# Placing all text features into a column vector\n",
    "X_train_text = X_train['title'] + \" \" + X_train['selftext'] + \" \" + X_train['link_flair_text']\n",
    "X_test_text = X_test['title'] + \" \" + X_test['selftext'] + \" \" + X_test['link_flair_text']"
   ]
  },
  {
   "cell_type": "code",
   "execution_count": 49,
   "id": "537d5466",
   "metadata": {},
   "outputs": [
    {
     "name": "stdout",
     "output_type": "stream",
     "text": [
      "Fitting 5 folds for each of 135 candidates, totalling 675 fits\n"
     ]
    },
    {
     "data": {
      "text/plain": [
       "GridSearchCV(cv=5,\n",
       "             estimator=Pipeline(steps=[('tvec', TfidfVectorizer()),\n",
       "                                       ('logreg', LogisticRegression())]),\n",
       "             param_grid={'logreg__C': array([1.  , 0.1 , 0.01]),\n",
       "                         'tvec__max_features': [2000, 4000, 6000],\n",
       "                         'tvec__min_df': [1, 2, 5, 10, 20],\n",
       "                         'tvec__ngram_range': [(1, 1), (1, 2), (1, 3)],\n",
       "                         'tvec__stop_words': ['english']},\n",
       "             verbose=1)"
      ]
     },
     "execution_count": 49,
     "metadata": {},
     "output_type": "execute_result"
    }
   ],
   "source": [
    "# Finding the best hyperparameters for text feature first\n",
    "# Instantiate Pipeline with TfidfVectorizer and Logisitic Regression\n",
    "pipe = Pipeline([\n",
    "    ('tvec', TfidfVectorizer()),\n",
    "    ('logreg', LogisticRegression())    \n",
    "])\n",
    "\n",
    "# Grid Search Parameters\n",
    "pipe_tvec_params = {\n",
    "    'tvec__stop_words': ['english'],\n",
    "    'tvec__ngram_range': [(1,1), (1,2), (1,3)],\n",
    "    'tvec__max_features': [2000, 4000, 6000],\n",
    "    'tvec__min_df': [1, 2, 5, 10, 20],\n",
    "    'logreg__C': np.logspace(0, -2, 3)\n",
    "}\n",
    "\n",
    "# Instantiate GridSearch and fit model using data\n",
    "gs_tvec = GridSearchCV(pipe, param_grid=pipe_tvec_params, cv=5, verbose=1)\n",
    "gs_tvec.fit(X_train_text, y_train)"
   ]
  },
  {
   "cell_type": "code",
   "execution_count": 50,
   "id": "b7dd618a",
   "metadata": {},
   "outputs": [
    {
     "name": "stdout",
     "output_type": "stream",
     "text": [
      "Train Accuracy: 0.987487969201155\n",
      "TrainCV Accuracy: 0.9688799028686669\n",
      "Test Accuracy: 0.9720885466794995\n",
      "Sensitivity: 0.9555125725338491\n",
      "Specificity: 0.9885057471264368\n",
      "Best Parameters: {'logreg__C': 1.0, 'tvec__max_features': 2000, 'tvec__min_df': 1, 'tvec__ngram_range': (1, 1), 'tvec__stop_words': 'english'}\n",
      "Best Estimator: Pipeline(steps=[('tvec',\n",
      "                 TfidfVectorizer(max_features=2000, stop_words='english')),\n",
      "                ('logreg', LogisticRegression())])\n"
     ]
    },
    {
     "data": {
      "text/html": [
       "<div>\n",
       "<style scoped>\n",
       "    .dataframe tbody tr th:only-of-type {\n",
       "        vertical-align: middle;\n",
       "    }\n",
       "\n",
       "    .dataframe tbody tr th {\n",
       "        vertical-align: top;\n",
       "    }\n",
       "\n",
       "    .dataframe thead th {\n",
       "        text-align: right;\n",
       "    }\n",
       "</style>\n",
       "<table border=\"1\" class=\"dataframe\">\n",
       "  <thead>\n",
       "    <tr style=\"text-align: right;\">\n",
       "      <th></th>\n",
       "      <th>train_accuracy</th>\n",
       "      <th>trainCV_accuracy</th>\n",
       "      <th>test_accuracy</th>\n",
       "      <th>tn</th>\n",
       "      <th>fp</th>\n",
       "      <th>fn</th>\n",
       "      <th>tp</th>\n",
       "      <th>sensitivity</th>\n",
       "      <th>specificity</th>\n",
       "      <th>best_params</th>\n",
       "      <th>best_estimator</th>\n",
       "    </tr>\n",
       "  </thead>\n",
       "  <tbody>\n",
       "    <tr>\n",
       "      <th>0</th>\n",
       "      <td>0.987488</td>\n",
       "      <td>0.96888</td>\n",
       "      <td>0.972089</td>\n",
       "      <td>516</td>\n",
       "      <td>6</td>\n",
       "      <td>23</td>\n",
       "      <td>494</td>\n",
       "      <td>0.955513</td>\n",
       "      <td>0.988506</td>\n",
       "      <td>{'logreg__C': 1.0, 'tvec__max_features': 2000,...</td>\n",
       "      <td>(TfidfVectorizer(max_features=2000, stop_words...</td>\n",
       "    </tr>\n",
       "  </tbody>\n",
       "</table>\n",
       "</div>"
      ],
      "text/plain": [
       "   train_accuracy  trainCV_accuracy  test_accuracy   tn  fp  fn   tp  \\\n",
       "0        0.987488           0.96888       0.972089  516   6  23  494   \n",
       "\n",
       "   sensitivity  specificity  \\\n",
       "0     0.955513     0.988506   \n",
       "\n",
       "                                         best_params  \\\n",
       "0  {'logreg__C': 1.0, 'tvec__max_features': 2000,...   \n",
       "\n",
       "                                      best_estimator  \n",
       "0  (TfidfVectorizer(max_features=2000, stop_words...  "
      ]
     },
     "execution_count": 50,
     "metadata": {},
     "output_type": "execute_result"
    },
    {
     "data": {
      "image/png": "[encoded data removed]",
      "text/plain": [
       "<Figure size 432x288 with 2 Axes>"
      ]
     },
     "metadata": {
      "needs_background": "light"
     },
     "output_type": "display_data"
    }
   ],
   "source": [
    "model_metrics(gs_tvec, X_train_text, y_train, X_test_text, y_test)"
   ]
  },
  {
   "cell_type": "code",
   "execution_count": 51,
   "id": "8752175e",
   "metadata": {},
   "outputs": [
    {
     "data": {
      "text/plain": [
       "{'logreg__C': 1.0,\n",
       " 'tvec__max_features': 2000,\n",
       " 'tvec__min_df': 1,\n",
       " 'tvec__ngram_range': (1, 1),\n",
       " 'tvec__stop_words': 'english'}"
      ]
     },
     "execution_count": 51,
     "metadata": {},
     "output_type": "execute_result"
    }
   ],
   "source": [
    "gs_tvec.best_params_"
   ]
  },
  {
   "cell_type": "code",
   "execution_count": 52,
   "id": "3f7deb16",
   "metadata": {},
   "outputs": [],
   "source": [
    "# Vectorizing X_train and X_test\n",
    "tvec = TfidfVectorizer(stop_words=gs_tvec.best_params_['tvec__stop_words'], \n",
    "                       ngram_range=gs_tvec.best_params_['tvec__ngram_range'],\n",
    "                       max_features=gs_tvec.best_params_['tvec__max_features'],\n",
    "                       min_df=gs_tvec.best_params_['tvec__min_df'])\n",
    "tvec.fit(X_train_text)\n",
    "X_train_vec = tvec.transform(X_train_text)\n",
    "X_test_vec = tvec.transform(X_test_text)\n",
    "\n",
    "# Convert into DataFrame\n",
    "X_train_vec_df = pd.DataFrame(X_train_vec.toarray(), columns = tvec.get_feature_names())\n",
    "X_test_vec_df = pd.DataFrame(X_test_vec.toarray(), columns = tvec.get_feature_names())"
   ]
  },
  {
   "cell_type": "code",
   "execution_count": 53,
   "id": "44eac669",
   "metadata": {},
   "outputs": [],
   "source": [
    "# Merge OHE dataframe with vectorized dataframe for train and test X\n",
    "X_train_vec_df = pd.merge(left=X_train_vec_df,\n",
    "                         right=pd.get_dummies(X_train[['whitelist_status', 'author_fullname']], drop_first=True).reset_index(drop=True),\n",
    "                         left_index=True,\n",
    "                         right_index=True)\n",
    "\n",
    "X_test_vec_df = pd.merge(left=X_test_vec_df,\n",
    "                         right=pd.get_dummies(X_test[['whitelist_status', 'author_fullname']], drop_first=False).reset_index(drop=True),\n",
    "                         left_index=True,\n",
    "                         right_index=True)"
   ]
  },
  {
   "cell_type": "code",
   "execution_count": 54,
   "id": "9fa718b9",
   "metadata": {},
   "outputs": [],
   "source": [
    "# To compare and check for missing and extra columns\n",
    "missing_col=[]\n",
    "extra_col=[]\n",
    "\n",
    "# Get the missing columns\n",
    "for col in X_train_vec_df.columns:\n",
    "    if col not in X_test_vec_df.columns:\n",
    "        missing_col.append(col)\n",
    "\n",
    "# Get the extra columns\n",
    "for col in X_test_vec_df.columns:\n",
    "    if col not in X_train_vec_df.columns:\n",
    "        extra_col.append(col)"
   ]
  },
  {
   "cell_type": "code",
   "execution_count": 55,
   "id": "6087ff4c",
   "metadata": {},
   "outputs": [],
   "source": [
    "# Add missing columns and set to 0\n",
    "for col in missing_col:\n",
    "    X_test_vec_df[col] = 0\n",
    "\n",
    "# Drop the extra columns\n",
    "X_test_vec_df.drop(columns=extra_col)\n",
    "\n",
    "# Reorder the columns of the test dataframe to match the train dataframe\n",
    "X_test_vec_df = X_test_vec_df[X_train_vec_df.columns]"
   ]
  },
  {
   "cell_type": "code",
   "execution_count": 56,
   "id": "dbc723a2",
   "metadata": {},
   "outputs": [],
   "source": [
    "# Standard Scaling the train and test dataframe\n",
    "sc =StandardScaler()\n",
    "X_train_scaled = sc.fit_transform(X_train_vec_df)\n",
    "X_test_scaled = sc.transform(X_test_vec_df)"
   ]
  },
  {
   "cell_type": "code",
   "execution_count": 57,
   "id": "5f60ee43",
   "metadata": {},
   "outputs": [
    {
     "data": {
      "text/plain": [
       "LogisticRegressionCV(cv=5)"
      ]
     },
     "execution_count": 57,
     "metadata": {},
     "output_type": "execute_result"
    }
   ],
   "source": [
    "# Instantiate and fit the model\n",
    "lr = LogisticRegressionCV(cv=5)\n",
    "lr.fit(X_train_scaled, y_train)"
   ]
  },
  {
   "cell_type": "code",
   "execution_count": 58,
   "id": "6241afdd",
   "metadata": {
    "scrolled": true
   },
   "outputs": [
    {
     "data": {
      "text/plain": [
       "1.0"
      ]
     },
     "execution_count": 58,
     "metadata": {},
     "output_type": "execute_result"
    }
   ],
   "source": [
    "# Train Score\n",
    "lr.score(X_train_scaled, y_train)"
   ]
  },
  {
   "cell_type": "code",
   "execution_count": 59,
   "id": "128c8af2",
   "metadata": {},
   "outputs": [
    {
     "data": {
      "text/plain": [
       "0.9942266534963163"
      ]
     },
     "execution_count": 59,
     "metadata": {},
     "output_type": "execute_result"
    }
   ],
   "source": [
    "# TrainCV Score\n",
    "cross_val_score(lr, X_train_scaled, y_train, cv=5).mean()"
   ]
  },
  {
   "cell_type": "code",
   "execution_count": 60,
   "id": "f27be666",
   "metadata": {},
   "outputs": [
    {
     "data": {
      "text/plain": [
       "0.9951876804619827"
      ]
     },
     "execution_count": 60,
     "metadata": {},
     "output_type": "execute_result"
    }
   ],
   "source": [
    "# Test Score\n",
    "lr.score(X_test_scaled, y_test)"
   ]
  },
  {
   "cell_type": "code",
   "execution_count": 61,
   "id": "4dbadc91",
   "metadata": {},
   "outputs": [],
   "source": [
    "# Predict y_test\n",
    "y_test_pred = lr.predict(X_test_scaled)"
   ]
  },
  {
   "cell_type": "code",
   "execution_count": 62,
   "id": "a56d3bf3",
   "metadata": {},
   "outputs": [
    {
     "name": "stdout",
     "output_type": "stream",
     "text": [
      "Sensitivity: 0.9961315280464217\n",
      "Specificity: 0.9942528735632183\n"
     ]
    },
    {
     "data": {
      "text/plain": [
       "<sklearn.metrics._plot.confusion_matrix.ConfusionMatrixDisplay at 0x2e07f10d310>"
      ]
     },
     "execution_count": 62,
     "metadata": {},
     "output_type": "execute_result"
    },
    {
     "data": {
      "image/png": "[encoded data removed]",
      "text/plain": [
       "<Figure size 432x288 with 2 Axes>"
      ]
     },
     "metadata": {
      "needs_background": "light"
     },
     "output_type": "display_data"
    }
   ],
   "source": [
    "# Confusion Matrix\n",
    "tn, fp, fn, tp = confusion_matrix(y_test, y_test_pred).ravel()\n",
    "\n",
    "# Sensitivity\n",
    "sensitivity = tp/(tp+fn)\n",
    "print(f\"Sensitivity: {sensitivity}\")\n",
    "\n",
    "# Specificity\n",
    "specificity = tn/(tn+fp)\n",
    "print(f\"Specificity: {specificity}\")\n",
    "\n",
    "# Plot Confusion Matrix\n",
    "plot_confusion_matrix(lr, X_test_scaled, y_test, display_labels=['LinusTechTips', 'TrashTaste'])"
   ]
  },
  {
   "cell_type": "code",
   "execution_count": 63,
   "id": "d489d8c4",
   "metadata": {},
   "outputs": [],
   "source": [
    "#temp = pd.Series(dict(zip(X_train_vec_df.columns, lr.coef_[0])))"
   ]
  },
  {
   "cell_type": "code",
   "execution_count": 64,
   "id": "3cf42a3a",
   "metadata": {},
   "outputs": [],
   "source": [
    "# Getting the exponential of coefficients\n",
    "temp = pd.Series(dict(zip(X_train_vec_df.columns, np.exp(lr.coef_[0]))))"
   ]
  },
  {
   "cell_type": "code",
   "execution_count": 65,
   "id": "e37131b8",
   "metadata": {},
   "outputs": [
    {
     "data": {
      "text/plain": [
       "Text(0, 0.5, 'Predictors')"
      ]
     },
     "execution_count": 65,
     "metadata": {},
     "output_type": "execute_result"
    },
    {
     "data": {
      "image/png": "[encoded data removed]",
      "text/plain": [
       "<Figure size 720x576 with 1 Axes>"
      ]
     },
     "metadata": {
      "needs_background": "light"
     },
     "output_type": "display_data"
    }
   ],
   "source": [
    "# Top 25 Predictors for TrashTaste\n",
    "plt.figure(figsize=(10,8))\n",
    "plt.title('Top 25 Predictors for Classifying Posts as TrashTaste', fontweight='bold', fontsize=15)\n",
    "sns.barplot(x=temp.sort_values(ascending=False).head(25), y=temp.sort_values(ascending=False).head(25).index)\n",
    "plt.xlabel('exponential^Coefficient', fontweight='bold', fontsize=12)\n",
    "plt.ylabel('Predictors', fontweight='bold', fontsize=12)"
   ]
  },
  {
   "cell_type": "code",
   "execution_count": 66,
   "id": "005906d9",
   "metadata": {},
   "outputs": [
    {
     "data": {
      "text/plain": [
       "Text(0, 0.5, 'Predictors')"
      ]
     },
     "execution_count": 66,
     "metadata": {},
     "output_type": "execute_result"
    },
    {
     "data": {
      "image/png": "[encoded data removed]",
      "text/plain": [
       "<Figure size 720x576 with 1 Axes>"
      ]
     },
     "metadata": {
      "needs_background": "light"
     },
     "output_type": "display_data"
    }
   ],
   "source": [
    "# Bottom 25 Predictors for TrashTaste\n",
    "plt.figure(figsize=(10,8))\n",
    "plt.title('Bottom 25 Predictors for Classifying Posts as TrashTaste', fontweight='bold', fontsize=15)\n",
    "sns.barplot(x=temp.sort_values(ascending=True).head(25), y=temp.sort_values(ascending=True).head(25).index)\n",
    "plt.xlabel('exponential^Coefficient', fontweight='bold', fontsize=12)\n",
    "plt.ylabel('Predictors', fontweight='bold', fontsize=12)"
   ]
  },
  {
   "cell_type": "markdown",
   "id": "c749240c",
   "metadata": {},
   "source": [
    "### Manual Method"
   ]
  },
  {
   "cell_type": "code",
   "execution_count": 35,
   "id": "0b840e8b",
   "metadata": {},
   "outputs": [
    {
     "name": "stderr",
     "output_type": "stream",
     "text": [
      "[Parallel(n_jobs=1)]: Using backend SequentialBackend with 1 concurrent workers.\n",
      "[Parallel(n_jobs=1)]: Done   5 out of   5 | elapsed:  2.1min finished\n"
     ]
    },
    {
     "data": {
      "text/plain": [
       "LogisticRegressionCV(Cs=array([1.00000000e-02, 1.09749877e-02, 1.20450354e-02, 1.32194115e-02,\n",
       "       1.45082878e-02, 1.59228279e-02, 1.74752840e-02, 1.91791026e-02,\n",
       "       2.10490414e-02, 2.31012970e-02, 2.53536449e-02, 2.78255940e-02,\n",
       "       3.05385551e-02, 3.35160265e-02, 3.67837977e-02, 4.03701726e-02,\n",
       "       4.43062146e-02, 4.86260158e-02, 5.33669923e-02, 5.85702082e-02,\n",
       "       6.42807312e-02, 7.05...\n",
       "       1.17681195e+01, 1.29154967e+01, 1.41747416e+01, 1.55567614e+01,\n",
       "       1.70735265e+01, 1.87381742e+01, 2.05651231e+01, 2.25701972e+01,\n",
       "       2.47707636e+01, 2.71858824e+01, 2.98364724e+01, 3.27454916e+01,\n",
       "       3.59381366e+01, 3.94420606e+01, 4.32876128e+01, 4.75081016e+01,\n",
       "       5.21400829e+01, 5.72236766e+01, 6.28029144e+01, 6.89261210e+01,\n",
       "       7.56463328e+01, 8.30217568e+01, 9.11162756e+01, 1.00000000e+02]),\n",
       "                     cv=5, max_iter=2000, random_state=42, verbose=1)"
      ]
     },
     "execution_count": 35,
     "metadata": {},
     "output_type": "execute_result"
    }
   ],
   "source": [
    "Cs_list = np.logspace(-2,2,100)\n",
    "logregCV = LogisticRegressionCV(Cs = Cs_list, cv = 5, random_state = 42, max_iter=2000, verbose=1)\n",
    "logregCV.fit(X_train_vec_df, y_train)"
   ]
  },
  {
   "cell_type": "code",
   "execution_count": 36,
   "id": "1de21aa8",
   "metadata": {},
   "outputs": [
    {
     "data": {
      "text/plain": [
       "0.9444979146615335"
      ]
     },
     "execution_count": 36,
     "metadata": {},
     "output_type": "execute_result"
    }
   ],
   "source": [
    "logregCV.score(X_train_vec_df, y_train)"
   ]
  },
  {
   "cell_type": "code",
   "execution_count": 37,
   "id": "ea51df0f",
   "metadata": {},
   "outputs": [
    {
     "data": {
      "text/plain": [
       "array([0.95454846])"
      ]
     },
     "execution_count": 37,
     "metadata": {},
     "output_type": "execute_result"
    }
   ],
   "source": [
    "logregCV.C_"
   ]
  },
  {
   "cell_type": "code",
   "execution_count": 38,
   "id": "90f6fef7",
   "metadata": {},
   "outputs": [
    {
     "data": {
      "text/plain": [
       "0.8787295476419634"
      ]
     },
     "execution_count": 38,
     "metadata": {},
     "output_type": "execute_result"
    }
   ],
   "source": [
    "logregCV.score(X_test_vec, y_test)"
   ]
  },
  {
   "cell_type": "code",
   "execution_count": 39,
   "id": "cec89398",
   "metadata": {},
   "outputs": [
    {
     "data": {
      "text/plain": [
       "0.9448187359640681"
      ]
     },
     "execution_count": 39,
     "metadata": {},
     "output_type": "execute_result"
    }
   ],
   "source": [
    "logreg = LogisticRegression(C=logregCV.C_[0])\n",
    "logreg.fit(X_train_vec_df, y_train)\n",
    "logreg.score(X_train_vec_df, y_train)"
   ]
  },
  {
   "cell_type": "code",
   "execution_count": 40,
   "id": "1109fdcd",
   "metadata": {},
   "outputs": [
    {
     "data": {
      "text/plain": [
       "0.8787295476419634"
      ]
     },
     "execution_count": 40,
     "metadata": {},
     "output_type": "execute_result"
    }
   ],
   "source": [
    "logreg.score(X_test_vec, y_test)"
   ]
  },
  {
   "cell_type": "code",
   "execution_count": 41,
   "id": "202fbcee",
   "metadata": {},
   "outputs": [
    {
     "data": {
      "text/plain": [
       "<sklearn.metrics._plot.confusion_matrix.ConfusionMatrixDisplay at 0x29f787e27f0>"
      ]
     },
     "execution_count": 41,
     "metadata": {},
     "output_type": "execute_result"
    },
    {
     "data": {
      "image/png": "[encoded data removed]",
      "text/plain": [
       "<Figure size 432x288 with 2 Axes>"
      ]
     },
     "metadata": {
      "needs_background": "light"
     },
     "output_type": "display_data"
    }
   ],
   "source": [
    "plot_confusion_matrix(logreg, X_test_vec, y_test)"
   ]
  },
  {
   "cell_type": "code",
   "execution_count": 44,
   "id": "6286a6d3",
   "metadata": {},
   "outputs": [
    {
     "data": {
      "text/plain": [
       "MultinomialNB()"
      ]
     },
     "execution_count": 44,
     "metadata": {},
     "output_type": "execute_result"
    }
   ],
   "source": [
    "nb = MultinomialNB()\n",
    "nb.fit(X_train_vec_df, y_train)"
   ]
  },
  {
   "cell_type": "code",
   "execution_count": 45,
   "id": "0244e4ca",
   "metadata": {},
   "outputs": [
    {
     "data": {
      "text/plain": [
       "0.9085659287776708"
      ]
     },
     "execution_count": 45,
     "metadata": {},
     "output_type": "execute_result"
    }
   ],
   "source": [
    "nb.score(X_train_vec_df, y_train)"
   ]
  },
  {
   "cell_type": "code",
   "execution_count": 46,
   "id": "5e81859d",
   "metadata": {},
   "outputs": [
    {
     "data": {
      "text/plain": [
       "0.8546679499518768"
      ]
     },
     "execution_count": 46,
     "metadata": {},
     "output_type": "execute_result"
    }
   ],
   "source": [
    "nb.score(X_test_vec, y_test)"
   ]
  },
  {
   "cell_type": "code",
   "execution_count": 47,
   "id": "436f7785",
   "metadata": {},
   "outputs": [
    {
     "data": {
      "text/plain": [
       "<sklearn.metrics._plot.confusion_matrix.ConfusionMatrixDisplay at 0x29f7e8b3550>"
      ]
     },
     "execution_count": 47,
     "metadata": {},
     "output_type": "execute_result"
    },
    {
     "data": {
      "image/png": "[encoded data removed]",
      "text/plain": [
       "<Figure size 432x288 with 2 Axes>"
      ]
     },
     "metadata": {
      "needs_background": "light"
     },
     "output_type": "display_data"
    }
   ],
   "source": [
    "plot_confusion_matrix(nb, X_test_vec, y_test)"
   ]
  }
 ],
 "metadata": {
  "kernelspec": {
   "display_name": "Python 3",
   "language": "python",
   "name": "python3"
  },
  "language_info": {
   "codemirror_mode": {
    "name": "ipython",
    "version": 3
   },
   "file_extension": ".py",
   "mimetype": "text/x-python",
   "name": "python",
   "nbconvert_exporter": "python",
   "pygments_lexer": "ipython3",
   "version": "3.8.8"
  }
 },
 "nbformat": 4,
 "nbformat_minor": 5
}
